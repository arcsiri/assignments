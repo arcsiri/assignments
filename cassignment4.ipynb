{
 "cells": [
  {
   "cell_type": "code",
   "execution_count": null,
   "id": "605e1f0a",
   "metadata": {},
   "outputs": [],
   "source": [
    "#Write a Python Program to Find the Factorial of a Number?\n",
    "n=int(input('enter the number'))\n",
    "factorial=1\n",
    "for i in range(1,n+1):\n",
    "    factorial=i*factorial\n",
    "print('factorial of ',n,'is',factorial)"
   ]
  },
  {
   "cell_type": "code",
   "execution_count": 1,
   "id": "65815be3",
   "metadata": {},
   "outputs": [
    {
     "name": "stdout",
     "output_type": "stream",
     "text": [
      "enter the number to multiply6\n",
      "enter the range to multiply15\n",
      "6 * 1 = 6\n",
      "6 * 2 = 12\n",
      "6 * 3 = 18\n",
      "6 * 4 = 24\n",
      "6 * 5 = 30\n",
      "6 * 6 = 36\n",
      "6 * 7 = 42\n",
      "6 * 8 = 48\n",
      "6 * 9 = 54\n",
      "6 * 10 = 60\n",
      "6 * 11 = 66\n",
      "6 * 12 = 72\n",
      "6 * 13 = 78\n",
      "6 * 14 = 84\n",
      "6 * 15 = 90\n"
     ]
    }
   ],
   "source": [
    "#Write a Python Program to Display the multiplication Table?\n",
    "n=int(input('enter the number to multiply'))\n",
    "m=int(input('enter the range to multiply'))\n",
    "for i in range(1,m+1):\n",
    "    print(n,'*',i,'=',n*i)"
   ]
  },
  {
   "cell_type": "code",
   "execution_count": 17,
   "id": "a0af8df5",
   "metadata": {},
   "outputs": [
    {
     "name": "stdout",
     "output_type": "stream",
     "text": [
      "enter the no.of numbers in series 6\n",
      "0\n",
      "1\n",
      "1\n",
      "2\n",
      "3\n",
      "5\n"
     ]
    }
   ],
   "source": [
    "#Write a Python Program to Print the Fibonacci sequence?\n",
    "m=int(input('enter the no.of numbers in series '))\n",
    "n0=0\n",
    "n1=1\n",
    "n=0\n",
    "print(n0)\n",
    "print(n1)\n",
    "for i in range(m-2):\n",
    "    n=n0+n1\n",
    "    print(n)\n",
    "    n0=n1\n",
    "    n1=n\n",
    "    "
   ]
  },
  {
   "cell_type": "code",
   "execution_count": 34,
   "id": "da21b903",
   "metadata": {},
   "outputs": [
    {
     "name": "stdout",
     "output_type": "stream",
     "text": [
      "enter the number153\n",
      "153 is armstrong number\n"
     ]
    }
   ],
   "source": [
    "#Write a Python Program to Check Armstrong Number?\n",
    "n=input('enter the number')\n",
    "count=0\n",
    "sum=0\n",
    "for i in n:\n",
    "    count+=1\n",
    "for i in n:\n",
    "    sum=sum+(int(i)**count)\n",
    "\n",
    "if sum==int(n):\n",
    "    print(n,'is armstrong number')\n",
    "else:\n",
    "    print(n,'is not armstrong number')\n",
    "    \n",
    "\n"
   ]
  },
  {
   "cell_type": "code",
   "execution_count": 37,
   "id": "1199ed5e",
   "metadata": {},
   "outputs": [
    {
     "name": "stdout",
     "output_type": "stream",
     "text": [
      "enter the lower range number100\n",
      "enter the upper range number500\n",
      "153 is armstrong number\n",
      "370 is armstrong number\n",
      "371 is armstrong number\n",
      "407 is armstrong number\n"
     ]
    }
   ],
   "source": [
    "#Write a Python Program to Find Armstrong Number in an Interval?\n",
    "a=int(input('enter the lower range number'))\n",
    "b=int(input('enter the upper range number'))\n",
    "\n",
    "for j in range(a,b+1):\n",
    "    n=str(j)\n",
    "    count=0\n",
    "    sum=0\n",
    "    for i in n:\n",
    "        count+=1\n",
    "    for i in n:\n",
    "        sum=sum+(int(i)**count)\n",
    "\n",
    "    if sum==int(n):\n",
    "        print(n,'is armstrong number')\n",
    "    else:\n",
    "        pass\n",
    "\n"
   ]
  },
  {
   "cell_type": "code",
   "execution_count": 30,
   "id": "2c793480",
   "metadata": {},
   "outputs": [
    {
     "name": "stdout",
     "output_type": "stream",
     "text": [
      "enter the number3\n",
      "sum of  3 natural number is 6.0\n"
     ]
    }
   ],
   "source": [
    "#Write a Python Program to Find the Sum of Natural Numbers?\n",
    "n=int(input('enter the number'))\n",
    "print('sum of ',n ,'natural number is',(n*(n+1)/2))\n"
   ]
  }
 ],
 "metadata": {
  "kernelspec": {
   "display_name": "Python 3",
   "language": "python",
   "name": "python3"
  },
  "language_info": {
   "codemirror_mode": {
    "name": "ipython",
    "version": 3
   },
   "file_extension": ".py",
   "mimetype": "text/x-python",
   "name": "python",
   "nbconvert_exporter": "python",
   "pygments_lexer": "ipython3",
   "version": "3.8.8"
  }
 },
 "nbformat": 4,
 "nbformat_minor": 5
}
