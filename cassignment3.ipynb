{
 "cells": [
  {
   "cell_type": "code",
   "execution_count": 1,
   "id": "036213b9",
   "metadata": {},
   "outputs": [
    {
     "name": "stdout",
     "output_type": "stream",
     "text": [
      "enter the number0\n",
      "number is 0\n"
     ]
    }
   ],
   "source": [
    "#Write a Python Program to Check if a Number is Positive, Negative or Zero?\n",
    "\n",
    "n=int(input('enter the number'))\n",
    "if n>0:\n",
    "    print('number is positive')\n",
    "elif n<0:\n",
    "    print('number is negative')\n",
    "else:\n",
    "    print('number is 0')\n",
    "    "
   ]
  },
  {
   "cell_type": "code",
   "execution_count": 2,
   "id": "adb6c46e",
   "metadata": {},
   "outputs": [
    {
     "name": "stdout",
     "output_type": "stream",
     "text": [
      "enter the number3\n",
      "number is odd\n"
     ]
    }
   ],
   "source": [
    "#Write a Python Program to Check if a Number is Odd or Even?\n",
    "n=int(input('enter the number'))\n",
    "if n%2==0:\n",
    "    print('number is even')\n",
    "else:\n",
    "    print('number is odd')"
   ]
  },
  {
   "cell_type": "code",
   "execution_count": 3,
   "id": "35d1dd4f",
   "metadata": {},
   "outputs": [
    {
     "name": "stdout",
     "output_type": "stream",
     "text": [
      "enter the year2000\n",
      "year is leap\n"
     ]
    }
   ],
   "source": [
    "#Write a Python Program to Check Leap Year?\n",
    "n=int(input('enter the year'))\n",
    "if n%4==0 and n%100!=0:\n",
    "    print('year is leap')\n",
    "if n%400==0:\n",
    "    print('year is leap')"
   ]
  },
  {
   "cell_type": "code",
   "execution_count": 18,
   "id": "42c3f147",
   "metadata": {},
   "outputs": [
    {
     "name": "stdout",
     "output_type": "stream",
     "text": [
      "enter the number29\n",
      "29 is prime\n"
     ]
    }
   ],
   "source": [
    "#Write a Python Program to Check Prime Number?\n",
    "n=int(input('enter the number'))\n",
    "i=1\n",
    "factor=0\n",
    "while i<=n:\n",
    "    if n%i==0:\n",
    "        factor=factor+1\n",
    "    else:\n",
    "        pass\n",
    "    i=i+1\n",
    "if factor>2:\n",
    "    print(n,' is not prime')\n",
    "else:\n",
    "    print(n,'is prime')"
   ]
  },
  {
   "cell_type": "code",
   "execution_count": null,
   "id": "f79193c0",
   "metadata": {},
   "outputs": [],
   "source": [
    "#Write a Python Program to Print all Prime Numbers in an Interval of 1-10000?\n",
    "for i in range(1,10000):\n",
    "    \n",
    "    factor=0\n",
    "    for j in range(1,i+1):\n",
    "        if i%j==0:\n",
    "            factor=factor+1\n",
    "    if factor==2:\n",
    "        print(i,'is prime')\n"
   ]
  }
 ],
 "metadata": {
  "kernelspec": {
   "display_name": "Python 3",
   "language": "python",
   "name": "python3"
  },
  "language_info": {
   "codemirror_mode": {
    "name": "ipython",
    "version": 3
   },
   "file_extension": ".py",
   "mimetype": "text/x-python",
   "name": "python",
   "nbconvert_exporter": "python",
   "pygments_lexer": "ipython3",
   "version": "3.8.8"
  }
 },
 "nbformat": 4,
 "nbformat_minor": 5
}
