{
 "cells": [
  {
   "cell_type": "code",
   "execution_count": 1,
   "id": "dc2ff8b4",
   "metadata": {},
   "outputs": [
    {
     "name": "stdout",
     "output_type": "stream",
     "text": [
      "149\n"
     ]
    }
   ],
   "source": [
    "#Write a Python program to find sum of elements in list?\n",
    "l=[1,5,78,65]\n",
    "sum=0\n",
    "for i in l:\n",
    "    sum=sum+i\n",
    "print(sum)"
   ]
  },
  {
   "cell_type": "code",
   "execution_count": null,
   "id": "7863b528",
   "metadata": {},
   "outputs": [],
   "source": [
    "#Write a Python program to  Multiply all numbers in the list?\n",
    "l=[]\n",
    "n=int(input('no of elements in list'))\n",
    "for i in range(n):\n",
    "    print('enter ',i,'digit')\n",
    "    x=int(input())\n",
    "    l.append(x)\n",
    "product=0\n",
    "for i in l:\n",
    "    product=product*i\n",
    "print(product)"
   ]
  },
  {
   "cell_type": "code",
   "execution_count": null,
   "id": "c91d0be6",
   "metadata": {},
   "outputs": [],
   "source": [
    "#Write a Python program to find smallest number in a list?\n",
    "l=[]\n",
    "n=int(input('no of elements in list'))\n",
    "for i in range(n):\n",
    "    print('enter ',i,'digit')\n",
    "    x=int(input())\n",
    "    l.append(x)\n",
    "l.sort()\n",
    "print('min is',l[0])"
   ]
  },
  {
   "cell_type": "code",
   "execution_count": null,
   "id": "0ba0396f",
   "metadata": {},
   "outputs": [],
   "source": [
    "#Write a Python program to find largest number in a list?\n",
    "\n",
    "l=[]\n",
    "n=int(input('no of elements in list'))\n",
    "for i in range(n):\n",
    "    print('enter ',i,'digit')\n",
    "    x=int(input())\n",
    "    l.append(x)\n",
    "l.sort()\n",
    "print('max is',l[n-1])"
   ]
  },
  {
   "cell_type": "code",
   "execution_count": 12,
   "id": "7000014e",
   "metadata": {},
   "outputs": [
    {
     "name": "stdout",
     "output_type": "stream",
     "text": [
      "no of elements in list3\n",
      "enter  0 digit\n",
      "123456798\n",
      "enter  1 digit\n",
      "124124\n",
      "enter  2 digit\n",
      "5452\n",
      "second largest is 124124\n"
     ]
    }
   ],
   "source": [
    "#Write a Python program to find second largest number in a list?\n",
    "l=[]\n",
    "n=int(input('no of elements in list'))\n",
    "for i in range(n):\n",
    "    print('enter ',i,'digit')\n",
    "    x=int(input())\n",
    "    l.append(x)\n",
    "l.sort()\n",
    "print('second largest is',l[n-2])"
   ]
  },
  {
   "cell_type": "code",
   "execution_count": 20,
   "id": "191cfb12",
   "metadata": {},
   "outputs": [
    {
     "name": "stdout",
     "output_type": "stream",
     "text": [
      "no of elements in list6\n",
      "enter  0 digit\n",
      "46\n",
      "enter  1 digit\n",
      "56683\n",
      "enter  2 digit\n",
      "563\n",
      "enter  3 digit\n",
      "6569\n",
      "enter  4 digit\n",
      "24168\n",
      "enter  5 digit\n",
      "9665\n",
      "no of elements largest4\n",
      "56683\n",
      "24168\n",
      "9665\n",
      "6569\n"
     ]
    }
   ],
   "source": [
    "#Write a Python program to find N largest elements from a list?\n",
    "l=[]\n",
    "n=int(input('no of elements in list'))\n",
    "for i in range(n):\n",
    "    print('enter ',i,'digit')\n",
    "    x=int(input())\n",
    "    l.append(x)\n",
    "l.sort()\n",
    "N=int(input('no of elements largest'))\n",
    "for i in range(N):\n",
    "    print(l[N-i+1])"
   ]
  },
  {
   "cell_type": "code",
   "execution_count": 22,
   "id": "292322a9",
   "metadata": {},
   "outputs": [
    {
     "name": "stdout",
     "output_type": "stream",
     "text": [
      "no of elements in list6\n",
      "enter  0 digit\n",
      "1\n",
      "enter  1 digit\n",
      "2\n",
      "enter  2 digit\n",
      "3\n",
      "enter  3 digit\n",
      "4\n",
      "enter  4 digit\n",
      "5\n",
      "enter  5 digit\n",
      "6\n",
      "2\n",
      "4\n",
      "6\n"
     ]
    }
   ],
   "source": [
    "#Write a Python program to print even numbers in a list?\n",
    "l=[]\n",
    "n=int(input('no of elements in list'))\n",
    "for i in range(n):\n",
    "    print('enter ',i,'digit')\n",
    "    x=int(input())\n",
    "    l.append(x)\n",
    "for i in l:\n",
    "    if i%2==0:\n",
    "        print(i)"
   ]
  },
  {
   "cell_type": "code",
   "execution_count": 23,
   "id": "37d7a6fd",
   "metadata": {},
   "outputs": [
    {
     "name": "stdout",
     "output_type": "stream",
     "text": [
      "no of elements in list8\n",
      "enter  0 digit\n",
      "1\n",
      "enter  1 digit\n",
      "2\n",
      "enter  2 digit\n",
      "3\n",
      "enter  3 digit\n",
      "4\n",
      "enter  4 digit\n",
      "5\n",
      "enter  5 digit\n",
      "6\n",
      "enter  6 digit\n",
      "7\n",
      "enter  7 digit\n",
      "8\n",
      "1\n",
      "3\n",
      "5\n",
      "7\n"
     ]
    }
   ],
   "source": [
    "#Write a Python program to print odd numbers in a List?\n",
    "l=[]\n",
    "n=int(input('no of elements in list'))\n",
    "for i in range(n):\n",
    "    print('enter ',i,'digit')\n",
    "    x=int(input())\n",
    "    l.append(x)\n",
    "for i in l:\n",
    "    if i%2!=0:\n",
    "        print(i)"
   ]
  },
  {
   "cell_type": "code",
   "execution_count": 16,
   "id": "cb4291dc",
   "metadata": {},
   "outputs": [],
   "source": [
    "#Write a Python program to Remove empty List from List?\n",
    "l=[1,2,5,[],'dgksy',[1,'jh']]\n",
    "for i in l:\n",
    "    if type(i)==list:\n",
    "        if len(i)==0:\n",
    "            l.remove([])\n",
    "            \n"
   ]
  },
  {
   "cell_type": "code",
   "execution_count": 24,
   "id": "029d3a02",
   "metadata": {},
   "outputs": [],
   "source": [
    "#\tWrite a Python program to Cloning or Copying a list?\n",
    "l=[1,2,5,[],'dgksy',[1,'jh']]\n",
    "lcopy=[]\n",
    "lcopy.extend(l)\n",
    "lcopy"
   ]
  },
  {
   "cell_type": "code",
   "execution_count": 35,
   "id": "ef95f029",
   "metadata": {},
   "outputs": [
    {
     "name": "stdout",
     "output_type": "stream",
     "text": [
      "enter the number to count5\n",
      "element not if list\n"
     ]
    }
   ],
   "source": [
    "#11.\tWrite a Python program to Count occurrences of an element in a list?\n",
    "l=[1,2,3,4,2,2,2,45,6]\n",
    "n=int(input('enter the number to count'))\n",
    "if n in l:\n",
    "    print(l.count(n))\n",
    "else:\n",
    "    print('element not if list')\n",
    "    \n",
    "\n",
    "    "
   ]
  }
 ],
 "metadata": {
  "kernelspec": {
   "display_name": "Python 3",
   "language": "python",
   "name": "python3"
  },
  "language_info": {
   "codemirror_mode": {
    "name": "ipython",
    "version": 3
   },
   "file_extension": ".py",
   "mimetype": "text/x-python",
   "name": "python",
   "nbconvert_exporter": "python",
   "pygments_lexer": "ipython3",
   "version": "3.8.8"
  }
 },
 "nbformat": 4,
 "nbformat_minor": 5
}
