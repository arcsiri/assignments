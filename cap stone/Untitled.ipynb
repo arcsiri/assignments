{
 "cells": [
  {
   "cell_type": "code",
   "execution_count": 226,
   "id": "220194a3",
   "metadata": {
    "scrolled": true
   },
   "outputs": [],
   "source": [
    "import pandas as pd\n",
    "from statsmodels.tsa.stattools import adfuller\n",
    "from pmdarima import auto_arima,ARIMA\n",
    "from sklearn.model_selection import GridSearchCV\n",
    "import numpy as np"
   ]
  },
  {
   "cell_type": "code",
   "execution_count": 2,
   "id": "bcbddb31",
   "metadata": {},
   "outputs": [],
   "source": [
    "#read the dataset\n",
    "data=pd.read_excel(\"Sales_Forecast_Data.xlsx\")"
   ]
  },
  {
   "cell_type": "code",
   "execution_count": 3,
   "id": "966fc191",
   "metadata": {},
   "outputs": [
    {
     "data": {
      "text/html": [
       "<div>\n",
       "<style scoped>\n",
       "    .dataframe tbody tr th:only-of-type {\n",
       "        vertical-align: middle;\n",
       "    }\n",
       "\n",
       "    .dataframe tbody tr th {\n",
       "        vertical-align: top;\n",
       "    }\n",
       "\n",
       "    .dataframe thead th {\n",
       "        text-align: right;\n",
       "    }\n",
       "</style>\n",
       "<table border=\"1\" class=\"dataframe\">\n",
       "  <thead>\n",
       "    <tr style=\"text-align: right;\">\n",
       "      <th></th>\n",
       "      <th>FIN_YEAR</th>\n",
       "      <th>MONTH</th>\n",
       "      <th>STATE</th>\n",
       "      <th>FG</th>\n",
       "      <th>DISTRICT</th>\n",
       "      <th>COMPANY</th>\n",
       "      <th>VALUE</th>\n",
       "    </tr>\n",
       "  </thead>\n",
       "  <tbody>\n",
       "    <tr>\n",
       "      <th>0</th>\n",
       "      <td>2014-2015</td>\n",
       "      <td>Nov</td>\n",
       "      <td>Haryana</td>\n",
       "      <td>Insecticides</td>\n",
       "      <td>Rohtak</td>\n",
       "      <td>monous</td>\n",
       "      <td>675.00</td>\n",
       "    </tr>\n",
       "    <tr>\n",
       "      <th>1</th>\n",
       "      <td>2014-2015</td>\n",
       "      <td>Nov</td>\n",
       "      <td>Haryana</td>\n",
       "      <td>Insecticides</td>\n",
       "      <td>Rewari</td>\n",
       "      <td>monous</td>\n",
       "      <td>73.71</td>\n",
       "    </tr>\n",
       "    <tr>\n",
       "      <th>2</th>\n",
       "      <td>2014-2015</td>\n",
       "      <td>Nov</td>\n",
       "      <td>Haryana</td>\n",
       "      <td>Insecticides</td>\n",
       "      <td>Gurgaon</td>\n",
       "      <td>monous</td>\n",
       "      <td>405.00</td>\n",
       "    </tr>\n",
       "    <tr>\n",
       "      <th>3</th>\n",
       "      <td>2014-2015</td>\n",
       "      <td>Nov</td>\n",
       "      <td>Haryana</td>\n",
       "      <td>Insecticides</td>\n",
       "      <td>Mewat</td>\n",
       "      <td>monous</td>\n",
       "      <td>1188.00</td>\n",
       "    </tr>\n",
       "    <tr>\n",
       "      <th>4</th>\n",
       "      <td>2014-2015</td>\n",
       "      <td>Nov</td>\n",
       "      <td>Haryana</td>\n",
       "      <td>Insecticides</td>\n",
       "      <td>Palwal</td>\n",
       "      <td>monous</td>\n",
       "      <td>5188.59</td>\n",
       "    </tr>\n",
       "    <tr>\n",
       "      <th>...</th>\n",
       "      <td>...</td>\n",
       "      <td>...</td>\n",
       "      <td>...</td>\n",
       "      <td>...</td>\n",
       "      <td>...</td>\n",
       "      <td>...</td>\n",
       "      <td>...</td>\n",
       "    </tr>\n",
       "    <tr>\n",
       "      <th>230147</th>\n",
       "      <td>2016-2017</td>\n",
       "      <td>Dec</td>\n",
       "      <td>Uttar Pradesh</td>\n",
       "      <td>Bactericides</td>\n",
       "      <td>Etah</td>\n",
       "      <td>ABC Manufacturing</td>\n",
       "      <td>0.00</td>\n",
       "    </tr>\n",
       "    <tr>\n",
       "      <th>230148</th>\n",
       "      <td>2016-2017</td>\n",
       "      <td>Dec</td>\n",
       "      <td>Uttar Pradesh</td>\n",
       "      <td>Bactericides</td>\n",
       "      <td>Bulandshahr</td>\n",
       "      <td>disescent</td>\n",
       "      <td>6.75</td>\n",
       "    </tr>\n",
       "    <tr>\n",
       "      <th>230149</th>\n",
       "      <td>2016-2017</td>\n",
       "      <td>Dec</td>\n",
       "      <td>Uttar Pradesh</td>\n",
       "      <td>Bactericides</td>\n",
       "      <td>Lucknow</td>\n",
       "      <td>disescent</td>\n",
       "      <td>0.00</td>\n",
       "    </tr>\n",
       "    <tr>\n",
       "      <th>230150</th>\n",
       "      <td>2016-2017</td>\n",
       "      <td>Dec</td>\n",
       "      <td>Uttar Pradesh</td>\n",
       "      <td>Bactericides</td>\n",
       "      <td>Basti</td>\n",
       "      <td>disescent</td>\n",
       "      <td>486.00</td>\n",
       "    </tr>\n",
       "    <tr>\n",
       "      <th>230151</th>\n",
       "      <td>2016-2017</td>\n",
       "      <td>Jan</td>\n",
       "      <td>Uttar Pradesh</td>\n",
       "      <td>Bactericides</td>\n",
       "      <td>Basti</td>\n",
       "      <td>venible</td>\n",
       "      <td>0.00</td>\n",
       "    </tr>\n",
       "  </tbody>\n",
       "</table>\n",
       "<p>230152 rows × 7 columns</p>\n",
       "</div>"
      ],
      "text/plain": [
       "         FIN_YEAR MONTH          STATE            FG     DISTRICT  \\\n",
       "0       2014-2015   Nov        Haryana  Insecticides       Rohtak   \n",
       "1       2014-2015   Nov        Haryana  Insecticides       Rewari   \n",
       "2       2014-2015   Nov        Haryana  Insecticides      Gurgaon   \n",
       "3       2014-2015   Nov        Haryana  Insecticides        Mewat   \n",
       "4       2014-2015   Nov        Haryana  Insecticides       Palwal   \n",
       "...           ...   ...            ...           ...          ...   \n",
       "230147  2016-2017   Dec  Uttar Pradesh  Bactericides         Etah   \n",
       "230148  2016-2017   Dec  Uttar Pradesh  Bactericides  Bulandshahr   \n",
       "230149  2016-2017   Dec  Uttar Pradesh  Bactericides      Lucknow   \n",
       "230150  2016-2017   Dec  Uttar Pradesh  Bactericides        Basti   \n",
       "230151  2016-2017   Jan  Uttar Pradesh  Bactericides        Basti   \n",
       "\n",
       "                  COMPANY    VALUE  \n",
       "0                 monous    675.00  \n",
       "1                 monous     73.71  \n",
       "2                 monous    405.00  \n",
       "3                 monous   1188.00  \n",
       "4                 monous   5188.59  \n",
       "...                   ...      ...  \n",
       "230147  ABC Manufacturing     0.00  \n",
       "230148         disescent      6.75  \n",
       "230149         disescent      0.00  \n",
       "230150         disescent    486.00  \n",
       "230151           venible      0.00  \n",
       "\n",
       "[230152 rows x 7 columns]"
      ]
     },
     "execution_count": 3,
     "metadata": {},
     "output_type": "execute_result"
    }
   ],
   "source": [
    "data"
   ]
  },
  {
   "cell_type": "code",
   "execution_count": 4,
   "id": "803d7863",
   "metadata": {},
   "outputs": [
    {
     "data": {
      "text/plain": [
       "FIN_YEAR    0\n",
       "MONTH       0\n",
       "STATE       0\n",
       "FG          0\n",
       "DISTRICT    0\n",
       "COMPANY     0\n",
       "VALUE       0\n",
       "dtype: int64"
      ]
     },
     "execution_count": 4,
     "metadata": {},
     "output_type": "execute_result"
    }
   ],
   "source": [
    "#check for null values\n",
    "data.isna().sum()\n",
    "#there are no null values in the dataset"
   ]
  },
  {
   "cell_type": "markdown",
   "id": "c20f5261",
   "metadata": {},
   "source": [
    "Since the problem statement is about :\"STATE WISE FORECAST OF PESTICIDES SALES FOR ABC MANUFACTURING\"\n",
    "\n",
    "Separating the ABC Manufacturing dataset from whole dataset"
   ]
  },
  {
   "cell_type": "code",
   "execution_count": 5,
   "id": "d4b3f93b",
   "metadata": {},
   "outputs": [
    {
     "data": {
      "text/html": [
       "<div>\n",
       "<style scoped>\n",
       "    .dataframe tbody tr th:only-of-type {\n",
       "        vertical-align: middle;\n",
       "    }\n",
       "\n",
       "    .dataframe tbody tr th {\n",
       "        vertical-align: top;\n",
       "    }\n",
       "\n",
       "    .dataframe thead th {\n",
       "        text-align: right;\n",
       "    }\n",
       "</style>\n",
       "<table border=\"1\" class=\"dataframe\">\n",
       "  <thead>\n",
       "    <tr style=\"text-align: right;\">\n",
       "      <th></th>\n",
       "      <th>FIN_YEAR</th>\n",
       "      <th>MONTH</th>\n",
       "      <th>STATE</th>\n",
       "      <th>FG</th>\n",
       "      <th>DISTRICT</th>\n",
       "      <th>COMPANY</th>\n",
       "      <th>VALUE</th>\n",
       "    </tr>\n",
       "  </thead>\n",
       "  <tbody>\n",
       "    <tr>\n",
       "      <th>0</th>\n",
       "      <td>2014-2015</td>\n",
       "      <td>Dec</td>\n",
       "      <td>Haryana</td>\n",
       "      <td>Insecticides</td>\n",
       "      <td>Ambala</td>\n",
       "      <td>ABC Manufacturing</td>\n",
       "      <td>6019.380</td>\n",
       "    </tr>\n",
       "    <tr>\n",
       "      <th>1</th>\n",
       "      <td>2014-2015</td>\n",
       "      <td>Dec</td>\n",
       "      <td>Haryana</td>\n",
       "      <td>Insecticides</td>\n",
       "      <td>Yamunanagar</td>\n",
       "      <td>ABC Manufacturing</td>\n",
       "      <td>425.250</td>\n",
       "    </tr>\n",
       "    <tr>\n",
       "      <th>2</th>\n",
       "      <td>2014-2015</td>\n",
       "      <td>Dec</td>\n",
       "      <td>Haryana</td>\n",
       "      <td>Insecticides</td>\n",
       "      <td>Karnal</td>\n",
       "      <td>ABC Manufacturing</td>\n",
       "      <td>14782.635</td>\n",
       "    </tr>\n",
       "    <tr>\n",
       "      <th>3</th>\n",
       "      <td>2014-2015</td>\n",
       "      <td>Dec</td>\n",
       "      <td>Haryana</td>\n",
       "      <td>Insecticides</td>\n",
       "      <td>Panipat</td>\n",
       "      <td>ABC Manufacturing</td>\n",
       "      <td>4031.910</td>\n",
       "    </tr>\n",
       "    <tr>\n",
       "      <th>4</th>\n",
       "      <td>2014-2015</td>\n",
       "      <td>Dec</td>\n",
       "      <td>Haryana</td>\n",
       "      <td>Insecticides</td>\n",
       "      <td>Sonipat</td>\n",
       "      <td>ABC Manufacturing</td>\n",
       "      <td>8692.110</td>\n",
       "    </tr>\n",
       "    <tr>\n",
       "      <th>...</th>\n",
       "      <td>...</td>\n",
       "      <td>...</td>\n",
       "      <td>...</td>\n",
       "      <td>...</td>\n",
       "      <td>...</td>\n",
       "      <td>...</td>\n",
       "      <td>...</td>\n",
       "    </tr>\n",
       "    <tr>\n",
       "      <th>28635</th>\n",
       "      <td>2016-2017</td>\n",
       "      <td>Feb</td>\n",
       "      <td>Punjab</td>\n",
       "      <td>Bactericides</td>\n",
       "      <td>Barnala</td>\n",
       "      <td>ABC Manufacturing</td>\n",
       "      <td>0.000</td>\n",
       "    </tr>\n",
       "    <tr>\n",
       "      <th>28636</th>\n",
       "      <td>2016-2017</td>\n",
       "      <td>Dec</td>\n",
       "      <td>Uttar Pradesh</td>\n",
       "      <td>Bactericides</td>\n",
       "      <td>Faizabad</td>\n",
       "      <td>ABC Manufacturing</td>\n",
       "      <td>0.000</td>\n",
       "    </tr>\n",
       "    <tr>\n",
       "      <th>28637</th>\n",
       "      <td>2016-2017</td>\n",
       "      <td>Dec</td>\n",
       "      <td>Uttar Pradesh</td>\n",
       "      <td>Bactericides</td>\n",
       "      <td>Basti</td>\n",
       "      <td>ABC Manufacturing</td>\n",
       "      <td>0.000</td>\n",
       "    </tr>\n",
       "    <tr>\n",
       "      <th>28638</th>\n",
       "      <td>2016-2017</td>\n",
       "      <td>Dec</td>\n",
       "      <td>Uttar Pradesh</td>\n",
       "      <td>Bactericides</td>\n",
       "      <td>Ballia</td>\n",
       "      <td>ABC Manufacturing</td>\n",
       "      <td>0.000</td>\n",
       "    </tr>\n",
       "    <tr>\n",
       "      <th>28639</th>\n",
       "      <td>2016-2017</td>\n",
       "      <td>Dec</td>\n",
       "      <td>Uttar Pradesh</td>\n",
       "      <td>Bactericides</td>\n",
       "      <td>Etah</td>\n",
       "      <td>ABC Manufacturing</td>\n",
       "      <td>0.000</td>\n",
       "    </tr>\n",
       "  </tbody>\n",
       "</table>\n",
       "<p>28640 rows × 7 columns</p>\n",
       "</div>"
      ],
      "text/plain": [
       "        FIN_YEAR MONTH          STATE            FG     DISTRICT  \\\n",
       "0      2014-2015   Dec        Haryana  Insecticides       Ambala   \n",
       "1      2014-2015   Dec        Haryana  Insecticides  Yamunanagar   \n",
       "2      2014-2015   Dec        Haryana  Insecticides       Karnal   \n",
       "3      2014-2015   Dec        Haryana  Insecticides      Panipat   \n",
       "4      2014-2015   Dec        Haryana  Insecticides      Sonipat   \n",
       "...          ...   ...            ...           ...          ...   \n",
       "28635  2016-2017   Feb         Punjab  Bactericides      Barnala   \n",
       "28636  2016-2017   Dec  Uttar Pradesh  Bactericides     Faizabad   \n",
       "28637  2016-2017   Dec  Uttar Pradesh  Bactericides        Basti   \n",
       "28638  2016-2017   Dec  Uttar Pradesh  Bactericides       Ballia   \n",
       "28639  2016-2017   Dec  Uttar Pradesh  Bactericides         Etah   \n",
       "\n",
       "                 COMPANY      VALUE  \n",
       "0      ABC Manufacturing   6019.380  \n",
       "1      ABC Manufacturing    425.250  \n",
       "2      ABC Manufacturing  14782.635  \n",
       "3      ABC Manufacturing   4031.910  \n",
       "4      ABC Manufacturing   8692.110  \n",
       "...                  ...        ...  \n",
       "28635  ABC Manufacturing      0.000  \n",
       "28636  ABC Manufacturing      0.000  \n",
       "28637  ABC Manufacturing      0.000  \n",
       "28638  ABC Manufacturing      0.000  \n",
       "28639  ABC Manufacturing      0.000  \n",
       "\n",
       "[28640 rows x 7 columns]"
      ]
     },
     "execution_count": 5,
     "metadata": {},
     "output_type": "execute_result"
    }
   ],
   "source": [
    "dataset=data.loc[data['COMPANY']=='ABC Manufacturing']\n",
    "dataset=dataset.reset_index()\n",
    "dataset.drop(\"index\",axis=1,inplace=True)\n",
    "dataset"
   ]
  },
  {
   "cell_type": "markdown",
   "id": "118ec215",
   "metadata": {},
   "source": [
    "Data preprocessing to the year and month columns,inorder to derive the date from the given data\n"
   ]
  },
  {
   "cell_type": "code",
   "execution_count": 6,
   "id": "635b4cfa",
   "metadata": {},
   "outputs": [],
   "source": [
    "#renaming the month column to numbers\n",
    "dataset['MONTH'] = dataset['MONTH'].str.replace('Jan', '1')\n",
    "dataset['MONTH'] = dataset['MONTH'].str.replace('Feb', '2')\n",
    "dataset['MONTH'] = dataset['MONTH'].str.replace('Mar', '3')\n",
    "dataset['MONTH'] = dataset['MONTH'].str.replace('Apr', '4')\n",
    "dataset['MONTH'] = dataset['MONTH'].str.replace('May', '5')\n",
    "dataset['MONTH'] = dataset['MONTH'].str.replace('Jun', '6')\n",
    "dataset['MONTH'] = dataset['MONTH'].str.replace('Jul', '7')\n",
    "dataset['MONTH'] = dataset['MONTH'].str.replace('Aug', '8')\n",
    "dataset['MONTH'] = dataset['MONTH'].str.replace('Sep', '9')\n",
    "dataset['MONTH'] = dataset['MONTH'].str.replace('Oct', '10')\n",
    "dataset['MONTH'] = dataset['MONTH'].str.replace('Nov', '11')\n",
    "dataset['MONTH'] = dataset['MONTH'].str.replace('Dec', '12')\n"
   ]
  },
  {
   "cell_type": "code",
   "execution_count": 7,
   "id": "599c1533",
   "metadata": {},
   "outputs": [],
   "source": [
    "#seperating the datasets with respect to months \n",
    "jan_data=dataset.loc[dataset['MONTH']==\"1\"]\n",
    "feb_data=dataset.loc[dataset['MONTH']==\"2\"]\n",
    "mar_data=dataset.loc[dataset['MONTH']==\"3\"]\n",
    "apr_data=dataset.loc[dataset['MONTH']==\"4\"]\n",
    "may_data=dataset.loc[dataset['MONTH']==\"5\"]\n",
    "jun_data=dataset.loc[dataset['MONTH']==\"6\"]\n",
    "jul_data=dataset.loc[dataset['MONTH']==\"7\"]\n",
    "aug_data=dataset.loc[dataset['MONTH']==\"8\"]\n",
    "sep_data=dataset.loc[dataset['MONTH']==\"9\"]\n",
    "oct_data=dataset.loc[dataset['MONTH']==\"10\"]\n",
    "nov_data=dataset.loc[dataset['MONTH']==\"11\"]\n",
    "dec_data=dataset.loc[dataset['MONTH']==\"12\"]"
   ]
  },
  {
   "cell_type": "code",
   "execution_count": 8,
   "id": "a24a34c6",
   "metadata": {},
   "outputs": [],
   "source": [
    "#combining the data into quarters\n",
    "Q4_data=pd.concat([jan_data,feb_data,mar_data]).reset_index().drop(\"index\",axis=1)\n",
    "Q1_data=pd.concat([apr_data,may_data,jun_data]).reset_index().drop(\"index\",axis=1)\n",
    "Q2_data=pd.concat([jul_data,aug_data,sep_data]).reset_index().drop(\"index\",axis=1)\n",
    "Q3_data=pd.concat([oct_data,nov_data,dec_data]).reset_index().drop(\"index\",axis=1)"
   ]
  },
  {
   "cell_type": "code",
   "execution_count": 9,
   "id": "e0140202",
   "metadata": {
    "scrolled": true
   },
   "outputs": [],
   "source": [
    "#since the Q4 data falls into a new year in the year cycle we need to rename the year to latter year in cycle\n",
    "#that is 2014-2015  jan(2015) so rename the year to 2015\n",
    "Q4_data['FIN_YEAR'] = Q4_data['FIN_YEAR'].str.replace('2014-2015', '2015')\n",
    "Q4_data['FIN_YEAR'] = Q4_data['FIN_YEAR'].str.replace('2015-2016', '2016')\n",
    "Q4_data['FIN_YEAR'] = Q4_data['FIN_YEAR'].str.replace('2016-2017', '2017')\n",
    "Q4_data['FIN_YEAR'] = Q4_data['FIN_YEAR'].str.replace('2017-2018', '2018')\n",
    "\n",
    "Q1_data['FIN_YEAR'] = Q1_data['FIN_YEAR'].str.replace('2014-2015', '2014')\n",
    "Q1_data['FIN_YEAR'] = Q1_data['FIN_YEAR'].str.replace('2015-2016', '2015')\n",
    "Q1_data['FIN_YEAR'] = Q1_data['FIN_YEAR'].str.replace('2016-2017', '2016')\n",
    "Q1_data['FIN_YEAR'] = Q1_data['FIN_YEAR'].str.replace('2017-2018', '2017')\n",
    "\n",
    "Q2_data['FIN_YEAR'] = Q2_data['FIN_YEAR'].str.replace('2014-2015', '2014')\n",
    "Q2_data['FIN_YEAR'] = Q2_data['FIN_YEAR'].str.replace('2015-2016', '2015')\n",
    "Q2_data['FIN_YEAR'] = Q2_data['FIN_YEAR'].str.replace('2016-2017', '2016')\n",
    "Q2_data['FIN_YEAR'] = Q2_data['FIN_YEAR'].str.replace('2017-2018', '2017')\n",
    "\n",
    "Q3_data['FIN_YEAR'] = Q3_data['FIN_YEAR'].str.replace('2014-2015', '2014')\n",
    "Q3_data['FIN_YEAR'] = Q3_data['FIN_YEAR'].str.replace('2015-2016', '2015')\n",
    "Q3_data['FIN_YEAR'] = Q3_data['FIN_YEAR'].str.replace('2016-2017', '2016')\n",
    "Q3_data['FIN_YEAR'] = Q3_data['FIN_YEAR'].str.replace('2017-2018', '2017')"
   ]
  },
  {
   "cell_type": "code",
   "execution_count": 13,
   "id": "ca3c7914",
   "metadata": {},
   "outputs": [],
   "source": [
    "#combining the quarters data in to a dataset\n",
    "dataset_new=pd.concat([Q1_data,Q2_data,Q3_data,Q4_data]).reset_index().drop(\"index\",axis=1)"
   ]
  },
  {
   "cell_type": "code",
   "execution_count": 14,
   "id": "deb46f5f",
   "metadata": {},
   "outputs": [],
   "source": [
    "dataset_new[\"date\"]=pd.to_datetime(dataset_new[\"FIN_YEAR\"]+\"-\"+dataset_new[\"MONTH\"]+\"-\"+\"1\")"
   ]
  },
  {
   "cell_type": "code",
   "execution_count": 15,
   "id": "ce7eb6c4",
   "metadata": {},
   "outputs": [],
   "source": [
    "#removing the unnecessary columns\n",
    "dataset_new.drop([\"FIN_YEAR\",\"MONTH\",'FG','DISTRICT','COMPANY'],axis=1,inplace=True)"
   ]
  },
  {
   "cell_type": "code",
   "execution_count": 16,
   "id": "06437a9b",
   "metadata": {},
   "outputs": [
    {
     "data": {
      "text/html": [
       "<div>\n",
       "<style scoped>\n",
       "    .dataframe tbody tr th:only-of-type {\n",
       "        vertical-align: middle;\n",
       "    }\n",
       "\n",
       "    .dataframe tbody tr th {\n",
       "        vertical-align: top;\n",
       "    }\n",
       "\n",
       "    .dataframe thead th {\n",
       "        text-align: right;\n",
       "    }\n",
       "</style>\n",
       "<table border=\"1\" class=\"dataframe\">\n",
       "  <thead>\n",
       "    <tr style=\"text-align: right;\">\n",
       "      <th></th>\n",
       "      <th>STATE</th>\n",
       "      <th>VALUE</th>\n",
       "      <th>date</th>\n",
       "    </tr>\n",
       "  </thead>\n",
       "  <tbody>\n",
       "    <tr>\n",
       "      <th>0</th>\n",
       "      <td>Haryana</td>\n",
       "      <td>438.750</td>\n",
       "      <td>2014-04-01</td>\n",
       "    </tr>\n",
       "    <tr>\n",
       "      <th>1</th>\n",
       "      <td>Haryana</td>\n",
       "      <td>89.100</td>\n",
       "      <td>2014-04-01</td>\n",
       "    </tr>\n",
       "    <tr>\n",
       "      <th>2</th>\n",
       "      <td>Haryana</td>\n",
       "      <td>2937.060</td>\n",
       "      <td>2014-04-01</td>\n",
       "    </tr>\n",
       "    <tr>\n",
       "      <th>3</th>\n",
       "      <td>Haryana</td>\n",
       "      <td>3034.125</td>\n",
       "      <td>2014-04-01</td>\n",
       "    </tr>\n",
       "    <tr>\n",
       "      <th>4</th>\n",
       "      <td>Haryana</td>\n",
       "      <td>5320.890</td>\n",
       "      <td>2014-04-01</td>\n",
       "    </tr>\n",
       "    <tr>\n",
       "      <th>...</th>\n",
       "      <td>...</td>\n",
       "      <td>...</td>\n",
       "      <td>...</td>\n",
       "    </tr>\n",
       "    <tr>\n",
       "      <th>28635</th>\n",
       "      <td>Punjab</td>\n",
       "      <td>0.000</td>\n",
       "      <td>2017-03-01</td>\n",
       "    </tr>\n",
       "    <tr>\n",
       "      <th>28636</th>\n",
       "      <td>Punjab</td>\n",
       "      <td>0.000</td>\n",
       "      <td>2017-03-01</td>\n",
       "    </tr>\n",
       "    <tr>\n",
       "      <th>28637</th>\n",
       "      <td>Punjab</td>\n",
       "      <td>0.000</td>\n",
       "      <td>2017-03-01</td>\n",
       "    </tr>\n",
       "    <tr>\n",
       "      <th>28638</th>\n",
       "      <td>Punjab</td>\n",
       "      <td>0.000</td>\n",
       "      <td>2017-03-01</td>\n",
       "    </tr>\n",
       "    <tr>\n",
       "      <th>28639</th>\n",
       "      <td>Haryana</td>\n",
       "      <td>0.000</td>\n",
       "      <td>2017-03-01</td>\n",
       "    </tr>\n",
       "  </tbody>\n",
       "</table>\n",
       "<p>28640 rows × 3 columns</p>\n",
       "</div>"
      ],
      "text/plain": [
       "         STATE     VALUE       date\n",
       "0      Haryana   438.750 2014-04-01\n",
       "1      Haryana    89.100 2014-04-01\n",
       "2      Haryana  2937.060 2014-04-01\n",
       "3      Haryana  3034.125 2014-04-01\n",
       "4      Haryana  5320.890 2014-04-01\n",
       "...        ...       ...        ...\n",
       "28635   Punjab     0.000 2017-03-01\n",
       "28636   Punjab     0.000 2017-03-01\n",
       "28637   Punjab     0.000 2017-03-01\n",
       "28638   Punjab     0.000 2017-03-01\n",
       "28639  Haryana     0.000 2017-03-01\n",
       "\n",
       "[28640 rows x 3 columns]"
      ]
     },
     "execution_count": 16,
     "metadata": {},
     "output_type": "execute_result"
    }
   ],
   "source": [
    "dataset_new"
   ]
  },
  {
   "cell_type": "code",
   "execution_count": 17,
   "id": "a9bd36ee",
   "metadata": {},
   "outputs": [
    {
     "data": {
      "text/plain": [
       "Uttar Pradesh       13024\n",
       "Haryana              6028\n",
       "Himachal Pradesh     3880\n",
       "Punjab               3668\n",
       "Uttarakhand          2040\n",
       "Name: STATE, dtype: int64"
      ]
     },
     "execution_count": 17,
     "metadata": {},
     "output_type": "execute_result"
    }
   ],
   "source": [
    "#the problem statement wnat to build a forecast model for the sales in every state \n",
    "#getting the count and number of states in the dataset\n",
    "dataset_new.STATE.value_counts()"
   ]
  },
  {
   "cell_type": "code",
   "execution_count": 18,
   "id": "15503f68",
   "metadata": {},
   "outputs": [],
   "source": [
    "#first creation of seperate detasets for each state:\n",
    "Himachal_dataset=dataset_new.loc[dataset_new['STATE']=='Himachal Pradesh']\n",
    "Haryana_dataset=dataset_new.loc[dataset_new['STATE']=='Haryana']\n",
    "Uttar_Pradesh_dataset=dataset_new.loc[dataset_new['STATE']=='Uttar Pradesh']\n",
    "Punjab_dataset=dataset_new.loc[dataset_new['STATE']=='Punjab']\n",
    "Uttarakhand_dataset=dataset_new.loc[dataset_new['STATE']=='Uttarakhand']"
   ]
  },
  {
   "cell_type": "code",
   "execution_count": 19,
   "id": "c87fadb0",
   "metadata": {},
   "outputs": [
    {
     "name": "stderr",
     "output_type": "stream",
     "text": [
      "C:\\Users\\91738\\anaconda3\\lib\\site-packages\\pandas\\core\\frame.py:4308: SettingWithCopyWarning: \n",
      "A value is trying to be set on a copy of a slice from a DataFrame\n",
      "\n",
      "See the caveats in the documentation: https://pandas.pydata.org/pandas-docs/stable/user_guide/indexing.html#returning-a-view-versus-a-copy\n",
      "  return super().drop(\n"
     ]
    }
   ],
   "source": [
    "#drop the state column in all datasets\n",
    "Himachal_dataset.drop([\"STATE\"],axis=1,inplace=True)\n",
    "Haryana_dataset.drop([\"STATE\"],axis=1,inplace=True)\n",
    "Uttar_Pradesh_dataset.drop([\"STATE\"],axis=1,inplace=True)\n",
    "Punjab_dataset.drop([\"STATE\"],axis=1,inplace=True)\n",
    "Uttarakhand_dataset.drop([\"STATE\"],axis=1,inplace=True)"
   ]
  },
  {
   "cell_type": "code",
   "execution_count": 20,
   "id": "e875898d",
   "metadata": {},
   "outputs": [],
   "source": [
    "#rearranging the datasets in cronological order\n",
    "Himachal_dataset=Himachal_dataset.sort_values(\"date\").reset_index().drop(\"index\",axis=1)\n",
    "Haryana_dataset=Haryana_dataset.sort_values(\"date\").reset_index().drop(\"index\",axis=1)\n",
    "Uttarakhand_dataset=Uttarakhand_dataset.sort_values(\"date\").reset_index().drop(\"index\",axis=1)\n",
    "Punjab_dataset=Punjab_dataset.sort_values(\"date\").reset_index().drop(\"index\",axis=1)\n",
    "Uttar_Pradesh_dataset=Uttar_Pradesh_dataset.sort_values(\"date\").reset_index().drop(\"index\",axis=1)"
   ]
  },
  {
   "cell_type": "code",
   "execution_count": 21,
   "id": "2aca64c1",
   "metadata": {},
   "outputs": [],
   "source": [
    "#adding the monthly sales \n",
    "Uttarakhand_dataset=Uttarakhand_dataset.groupby('date')['VALUE'].sum().reset_index()\n",
    "Punjab_dataset=Punjab_dataset.groupby('date')['VALUE'].sum().reset_index()\n",
    "Uttar_Pradesh_dataset=Uttar_Pradesh_dataset.groupby('date')['VALUE'].sum().reset_index()\n",
    "Haryana_dataset=Haryana_dataset.groupby('date')['VALUE'].sum().reset_index()\n",
    "Himachal_dataset=Himachal_dataset.groupby('date')['VALUE'].sum().reset_index()\n"
   ]
  },
  {
   "cell_type": "code",
   "execution_count": 22,
   "id": "00485fdf",
   "metadata": {},
   "outputs": [],
   "source": [
    "#setting the date as index\n",
    "Punjab_dataset.set_index(\"date\",inplace=True)\n",
    "Uttarakhand_dataset.set_index(\"date\",inplace=True)\n",
    "Uttar_Pradesh_dataset.set_index(\"date\",inplace=True)\n",
    "Haryana_dataset.set_index(\"date\",inplace=True)\n",
    "Himachal_dataset.set_index(\"date\",inplace=True)"
   ]
  },
  {
   "cell_type": "code",
   "execution_count": 23,
   "id": "bf0cdd35",
   "metadata": {},
   "outputs": [
    {
     "data": {
      "text/plain": [
       "<AxesSubplot:xlabel='date'>"
      ]
     },
     "execution_count": 23,
     "metadata": {},
     "output_type": "execute_result"
    },
    {
     "data": {
      "image/png": "[encoded data removed]",
      "text/plain": [
       "<Figure size 432x288 with 1 Axes>"
      ]
     },
     "metadata": {
      "needs_background": "light"
     },
     "output_type": "display_data"
    }
   ],
   "source": [
    "Uttarakhand_dataset.plot()"
   ]
  },
  {
   "cell_type": "code",
   "execution_count": 24,
   "id": "c739ef08",
   "metadata": {},
   "outputs": [
    {
     "data": {
      "text/plain": [
       "<AxesSubplot:xlabel='date'>"
      ]
     },
     "execution_count": 24,
     "metadata": {},
     "output_type": "execute_result"
    },
    {
     "data": {
      "image/png": "[encoded data removed]",
      "text/plain": [
       "<Figure size 432x288 with 1 Axes>"
      ]
     },
     "metadata": {
      "needs_background": "light"
     },
     "output_type": "display_data"
    }
   ],
   "source": [
    "Uttar_Pradesh_dataset.plot()"
   ]
  },
  {
   "cell_type": "code",
   "execution_count": 25,
   "id": "4219a301",
   "metadata": {},
   "outputs": [
    {
     "data": {
      "text/plain": [
       "<AxesSubplot:xlabel='date'>"
      ]
     },
     "execution_count": 25,
     "metadata": {},
     "output_type": "execute_result"
    },
    {
     "data": {
      "image/png": "[encoded data removed]",
      "text/plain": [
       "<Figure size 432x288 with 1 Axes>"
      ]
     },
     "metadata": {
      "needs_background": "light"
     },
     "output_type": "display_data"
    }
   ],
   "source": [
    "Himachal_dataset.plot()"
   ]
  },
  {
   "cell_type": "code",
   "execution_count": 26,
   "id": "56a3441a",
   "metadata": {
    "scrolled": false
   },
   "outputs": [
    {
     "data": {
      "text/plain": [
       "<AxesSubplot:xlabel='date'>"
      ]
     },
     "execution_count": 26,
     "metadata": {},
     "output_type": "execute_result"
    },
    {
     "data": {
      "image/png": "[encoded data removed]",
      "text/plain": [
       "<Figure size 432x288 with 1 Axes>"
      ]
     },
     "metadata": {
      "needs_background": "light"
     },
     "output_type": "display_data"
    }
   ],
   "source": [
    "Punjab_dataset.plot()"
   ]
  },
  {
   "cell_type": "code",
   "execution_count": 27,
   "id": "d959dc1f",
   "metadata": {},
   "outputs": [
    {
     "data": {
      "text/plain": [
       "<AxesSubplot:xlabel='date'>"
      ]
     },
     "execution_count": 27,
     "metadata": {},
     "output_type": "execute_result"
    },
    {
     "data": {
      "image/png": "[encoded data removed]",
      "text/plain": [
       "<Figure size 432x288 with 1 Axes>"
      ]
     },
     "metadata": {
      "needs_background": "light"
     },
     "output_type": "display_data"
    }
   ],
   "source": [
    "Uttarakhand_dataset.plot()\n"
   ]
  },
  {
   "cell_type": "code",
   "execution_count": 28,
   "id": "b92831b3",
   "metadata": {},
   "outputs": [],
   "source": [
    "#it is evident there is a seasonality in the data there is upward trend in january-march and fall followed by \n",
    "#rise around september to december\n",
    "\n",
    "#note: i may be wrong here please see the graphs below for furthur clear month details"
   ]
  },
  {
   "cell_type": "code",
   "execution_count": 29,
   "id": "36f6e82c",
   "metadata": {},
   "outputs": [],
   "source": [
    "#split the data into train,test\n",
    "train_Himachal_dataset=Himachal_dataset[0:33]\n",
    "test_Himachal_dataset=Himachal_dataset[33:]\n",
    "train_Punjab_dataset=Punjab_dataset[0:33]\n",
    "test_Punjab_dataset=Punjab_dataset[33:]\n",
    "train_Uttarakhand_dataset=Uttarakhand_dataset[0:33]\n",
    "test_Uttarakhand_dataset=Uttarakhand_dataset[33:]\n",
    "train_Haryana_dataset=Haryana_dataset[0:33]\n",
    "test_Haryana_dataset=Haryana_dataset[33:]\n",
    "train_Uttar_Pradesh_dataset=Uttar_Pradesh_dataset[0:33]\n",
    "test_Uttar_Pradesh_dataset=Uttar_Pradesh_dataset[33:]"
   ]
  },
  {
   "cell_type": "code",
   "execution_count": 30,
   "id": "a528c951",
   "metadata": {},
   "outputs": [
    {
     "data": {
      "text/plain": [
       "<AxesSubplot:xlabel='date'>"
      ]
     },
     "execution_count": 30,
     "metadata": {},
     "output_type": "execute_result"
    },
    {
     "data": {
      "image/png": "[encoded data removed]",
      "text/plain": [
       "<Figure size 432x288 with 1 Axes>"
      ]
     },
     "metadata": {
      "needs_background": "light"
     },
     "output_type": "display_data"
    }
   ],
   "source": [
    "test_Haryana_dataset.plot()\n",
    "#write the trend observations here"
   ]
  },
  {
   "cell_type": "code",
   "execution_count": 31,
   "id": "edb17687",
   "metadata": {},
   "outputs": [
    {
     "data": {
      "text/plain": [
       "<AxesSubplot:xlabel='date'>"
      ]
     },
     "execution_count": 31,
     "metadata": {},
     "output_type": "execute_result"
    },
    {
     "data": {
      "image/png": "[encoded data removed]",
      "text/plain": [
       "<Figure size 432x288 with 1 Axes>"
      ]
     },
     "metadata": {
      "needs_background": "light"
     },
     "output_type": "display_data"
    }
   ],
   "source": [
    "train_Haryana_dataset.plot()"
   ]
  },
  {
   "cell_type": "code",
   "execution_count": 32,
   "id": "8e062e1d",
   "metadata": {},
   "outputs": [
    {
     "name": "stdout",
     "output_type": "stream",
     "text": [
      "###############\n",
      "ADF Statistic: -4.076760766814591\n",
      "n_lags: 0.0010578267145618697\n",
      "p-value: 0.0010578267145618697\n",
      "Critial Values:\n",
      "   1%, -3.653519805908203\n",
      "Critial Values:\n",
      "   5%, -2.9572185644531253\n",
      "Critial Values:\n",
      "   10%, -2.6175881640625\n",
      "###############\n",
      "ADF Statistic: -4.076760766814591\n",
      "n_lags: 0.0010578267145618697\n",
      "p-value: 0.0010578267145618697\n",
      "Critial Values:\n",
      "   1%, -3.653519805908203\n",
      "Critial Values:\n",
      "   5%, -2.9572185644531253\n",
      "Critial Values:\n",
      "   10%, -2.6175881640625\n",
      "###############\n",
      "ADF Statistic: -5.312836676748563\n",
      "n_lags: 5.150172496458375e-06\n",
      "p-value: 5.150172496458375e-06\n",
      "Critial Values:\n",
      "   1%, -3.653519805908203\n",
      "Critial Values:\n",
      "   5%, -2.9572185644531253\n",
      "Critial Values:\n",
      "   10%, -2.6175881640625\n",
      "###############\n",
      "ADF Statistic: -6.601570648379313\n",
      "n_lags: 6.715373274570674e-09\n",
      "p-value: 6.715373274570674e-09\n",
      "Critial Values:\n",
      "   1%, -3.653519805908203\n",
      "Critial Values:\n",
      "   5%, -2.9572185644531253\n",
      "Critial Values:\n",
      "   10%, -2.6175881640625\n",
      "###############\n",
      "ADF Statistic: -2.0461940294722756\n",
      "n_lags: 0.2666928710511789\n",
      "p-value: 0.2666928710511789\n",
      "Critial Values:\n",
      "   1%, -3.7377092158564813\n",
      "Critial Values:\n",
      "   5%, -2.9922162731481485\n",
      "Critial Values:\n",
      "   10%, -2.635746736111111\n"
     ]
    }
   ],
   "source": [
    "#checking for the stationarity of the dataset\n",
    "#for which we use the ad fuller test\n",
    "datasets=[train_Haryana_dataset,train_Haryana_dataset,train_Punjab_dataset,train_Uttar_Pradesh_dataset,train_Uttarakhand_dataset]\n",
    "for i in datasets:\n",
    "    print(\"###############\")\n",
    "    result=adfuller(i)\n",
    "    print(f'ADF Statistic: {result[0]}')\n",
    "    print(f'n_lags: {result[1]}')\n",
    "    print(f'p-value: {result[1]}')\n",
    "    for key, value in result[4].items():\n",
    "        print('Critial Values:')\n",
    "        print(f'   {key}, {value}') \n"
   ]
  },
  {
   "cell_type": "code",
   "execution_count": 33,
   "id": "64acdfc4",
   "metadata": {},
   "outputs": [],
   "source": [
    "#the data is not stationary\n"
   ]
  },
  {
   "cell_type": "code",
   "execution_count": null,
   "id": "8ce7d2b1",
   "metadata": {},
   "outputs": [],
   "source": [
    "#MODEL BUILDING A SIMPLE ARIMA MODEL"
   ]
  },
  {
   "cell_type": "code",
   "execution_count": 218,
   "id": "3bceba0b",
   "metadata": {},
   "outputs": [
    {
     "name": "stderr",
     "output_type": "stream",
     "text": [
      "C:\\Users\\91738\\anaconda3\\lib\\site-packages\\statsmodels\\tsa\\statespace\\sarimax.py:997: UserWarning: Non-stationary starting seasonal autoregressive Using zeros as starting parameters.\n",
      "  warn('Non-stationary starting seasonal autoregressive'\n"
     ]
    }
   ],
   "source": [
    "## Model\n",
    "arimaModel1 = ARIMA((2,1,0), (1,1,0,12)).fit(train_Haryana_dataset)\n",
    "Forecast = pd.Series(arimaModel.predict(13))\n",
    "Forecast\n",
    "\n",
    "Forecast.index = test_Haryana_dataset.index\n",
    "Forecast\n",
    "\n",
    "Forecast_Haryana = pd.concat([Haryana_dataset, Forecast], axis = 1)\n",
    "\n",
    "Forecast_Haryana.rename(columns={0:\"Forecast\"},inplace=True)"
   ]
  },
  {
   "cell_type": "code",
   "execution_count": 219,
   "id": "d75bb4d3",
   "metadata": {
    "scrolled": true
   },
   "outputs": [
    {
     "data": {
      "text/plain": [
       "<AxesSubplot:xlabel='date'>"
      ]
     },
     "execution_count": 219,
     "metadata": {},
     "output_type": "execute_result"
    },
    {
     "data": {
      "image/png": "[encoded data removed]",
      "text/plain": [
       "<Figure size 432x288 with 1 Axes>"
      ]
     },
     "metadata": {
      "needs_background": "light"
     },
     "output_type": "display_data"
    }
   ],
   "source": [
    "Forecast_Haryana.plot()"
   ]
  },
  {
   "cell_type": "code",
   "execution_count": 220,
   "id": "a898de60",
   "metadata": {},
   "outputs": [
    {
     "data": {
      "text/plain": [
       "66.79206873498393"
      ]
     },
     "execution_count": 220,
     "metadata": {},
     "output_type": "execute_result"
    }
   ],
   "source": [
    "## Validation\n",
    "Validation_Df = Forecast_Haryana[33:].copy()\n",
    "np.mean(abs(Validation_Df['VALUE'] - Validation_Df['Forecast'])/Validation_Df['VALUE'])*100 # MAPE"
   ]
  },
  {
   "cell_type": "code",
   "execution_count": 221,
   "id": "a5516270",
   "metadata": {},
   "outputs": [
    {
     "data": {
      "text/plain": [
       "92310.922590623"
      ]
     },
     "execution_count": 221,
     "metadata": {},
     "output_type": "execute_result"
    }
   ],
   "source": [
    "np.sqrt(np.mean((Validation_Df['VALUE'] - Validation_Df['Forecast'])**2)) # RMSE"
   ]
  },
  {
   "cell_type": "code",
   "execution_count": 222,
   "id": "d8b17dbb",
   "metadata": {},
   "outputs": [
    {
     "name": "stderr",
     "output_type": "stream",
     "text": [
      "C:\\Users\\91738\\anaconda3\\lib\\site-packages\\statsmodels\\tsa\\statespace\\sarimax.py:997: UserWarning: Non-stationary starting seasonal autoregressive Using zeros as starting parameters.\n",
      "  warn('Non-stationary starting seasonal autoregressive'\n"
     ]
    }
   ],
   "source": [
    "#TRYING THE LOG TRANSFORMATION on the same model\n",
    "train=np.log(train_Haryana_dataset)\n",
    "arimaModel2 = ARIMA((2,1,0), (1,1,0,12)).fit(train)\n",
    "Forecast = pd.Series(arimaModel2.predict(13))\n",
    "Forecast = np.exp(Forecast)\n",
    "Forecast.index = test_Haryana_dataset.index # Needed for the pd.concat to work correctly in the next line\n",
    "\n",
    "Forecast_Haryana = pd.concat([Haryana_dataset, Forecast], axis = 1)\n",
    "\n",
    "Forecast_Haryana.rename(columns={0:\"Forecast\"},inplace=True)"
   ]
  },
  {
   "cell_type": "code",
   "execution_count": 223,
   "id": "b8a84761",
   "metadata": {},
   "outputs": [
    {
     "data": {
      "text/plain": [
       "<AxesSubplot:xlabel='date'>"
      ]
     },
     "execution_count": 223,
     "metadata": {},
     "output_type": "execute_result"
    },
    {
     "data": {
      "image/png": "[encoded data removed]",
      "text/plain": [
       "<Figure size 432x288 with 1 Axes>"
      ]
     },
     "metadata": {
      "needs_background": "light"
     },
     "output_type": "display_data"
    }
   ],
   "source": [
    "Forecast_Haryana.plot()"
   ]
  },
  {
   "cell_type": "code",
   "execution_count": 224,
   "id": "c6092147",
   "metadata": {},
   "outputs": [
    {
     "data": {
      "text/plain": [
       "70.43481383287245"
      ]
     },
     "execution_count": 224,
     "metadata": {},
     "output_type": "execute_result"
    }
   ],
   "source": [
    "Validation_Df = Forecast_Haryana[33:].copy()\n",
    "np.mean(abs(Validation_Df['VALUE'] - Validation_Df['Forecast'])/Validation_Df['VALUE'])*100 # MAPE"
   ]
  },
  {
   "cell_type": "code",
   "execution_count": 225,
   "id": "00e4bc07",
   "metadata": {},
   "outputs": [
    {
     "data": {
      "text/plain": [
       "50251.24024423529"
      ]
     },
     "execution_count": 225,
     "metadata": {},
     "output_type": "execute_result"
    }
   ],
   "source": [
    "np.sqrt(np.mean((Validation_Df['VALUE'] - Validation_Df['Forecast'])**2)) # RMSE"
   ]
  },
  {
   "cell_type": "code",
   "execution_count": 188,
   "id": "3f6e5a6e",
   "metadata": {
    "collapsed": true
   },
   "outputs": [
    {
     "name": "stdout",
     "output_type": "stream",
     "text": [
      "0 0 0 0 0 0\n",
      "0 0 0 0 0 1\n",
      "0 0 0 0 1 0\n",
      "0 0 0 0 1 1\n",
      "0 0 0 1 0 0\n",
      "0 0 0 1 0 1\n",
      "0 0 0 1 1 0\n",
      "0 0 0 1 1 1\n",
      "0 0 1 0 0 0\n"
     ]
    },
    {
     "name": "stderr",
     "output_type": "stream",
     "text": [
      "C:\\Users\\91738\\anaconda3\\lib\\site-packages\\statsmodels\\tsa\\statespace\\sarimax.py:866: UserWarning: Too few observations to estimate starting parameters for seasonal ARMA. All parameters except for variances will be set to zeros.\n",
      "  warn('Too few observations to estimate starting parameters%s.'\n",
      "C:\\Users\\91738\\anaconda3\\lib\\site-packages\\statsmodels\\tsa\\statespace\\sarimax.py:866: UserWarning: Too few observations to estimate starting parameters for seasonal ARMA. All parameters except for variances will be set to zeros.\n",
      "  warn('Too few observations to estimate starting parameters%s.'\n",
      "C:\\Users\\91738\\anaconda3\\lib\\site-packages\\statsmodels\\tsa\\statespace\\sarimax.py:866: UserWarning: Too few observations to estimate starting parameters for seasonal ARMA. All parameters except for variances will be set to zeros.\n",
      "  warn('Too few observations to estimate starting parameters%s.'\n",
      "C:\\Users\\91738\\anaconda3\\lib\\site-packages\\statsmodels\\tsa\\statespace\\sarimax.py:997: UserWarning: Non-stationary starting seasonal autoregressive Using zeros as starting parameters.\n",
      "  warn('Non-stationary starting seasonal autoregressive'\n",
      "C:\\Users\\91738\\anaconda3\\lib\\site-packages\\statsmodels\\tsa\\statespace\\sarimax.py:866: UserWarning: Too few observations to estimate starting parameters for seasonal ARMA. All parameters except for variances will be set to zeros.\n",
      "  warn('Too few observations to estimate starting parameters%s.'\n"
     ]
    },
    {
     "name": "stdout",
     "output_type": "stream",
     "text": [
      "0 0 1 0 0 1\n",
      "0 0 1 0 1 0\n",
      "0 0 1 0 1 1\n",
      "0 0 1 1 0 0\n",
      "0 0 1 1 0 1\n",
      "0 0 1 1 1 0\n",
      "0 0 1 1 1 1\n"
     ]
    },
    {
     "name": "stderr",
     "output_type": "stream",
     "text": [
      "C:\\Users\\91738\\anaconda3\\lib\\site-packages\\statsmodels\\tsa\\statespace\\sarimax.py:866: UserWarning: Too few observations to estimate starting parameters for seasonal ARMA. All parameters except for variances will be set to zeros.\n",
      "  warn('Too few observations to estimate starting parameters%s.'\n",
      "C:\\Users\\91738\\anaconda3\\lib\\site-packages\\statsmodels\\tsa\\statespace\\sarimax.py:866: UserWarning: Too few observations to estimate starting parameters for seasonal ARMA. All parameters except for variances will be set to zeros.\n",
      "  warn('Too few observations to estimate starting parameters%s.'\n",
      "C:\\Users\\91738\\anaconda3\\lib\\site-packages\\statsmodels\\tsa\\statespace\\sarimax.py:866: UserWarning: Too few observations to estimate starting parameters for seasonal ARMA. All parameters except for variances will be set to zeros.\n",
      "  warn('Too few observations to estimate starting parameters%s.'\n",
      "C:\\Users\\91738\\anaconda3\\lib\\site-packages\\statsmodels\\tsa\\statespace\\sarimax.py:997: UserWarning: Non-stationary starting seasonal autoregressive Using zeros as starting parameters.\n",
      "  warn('Non-stationary starting seasonal autoregressive'\n",
      "C:\\Users\\91738\\anaconda3\\lib\\site-packages\\statsmodels\\tsa\\statespace\\sarimax.py:866: UserWarning: Too few observations to estimate starting parameters for seasonal ARMA. All parameters except for variances will be set to zeros.\n",
      "  warn('Too few observations to estimate starting parameters%s.'\n",
      "C:\\Users\\91738\\anaconda3\\lib\\site-packages\\statsmodels\\tsa\\statespace\\sarimax.py:866: UserWarning: Too few observations to estimate starting parameters for seasonal ARMA. All parameters except for variances will be set to zeros.\n",
      "  warn('Too few observations to estimate starting parameters%s.'\n"
     ]
    },
    {
     "name": "stdout",
     "output_type": "stream",
     "text": [
      "0 1 0 0 0 0\n",
      "0 1 0 0 0 1\n",
      "0 1 0 0 1 0\n",
      "0 1 0 0 1 1\n",
      "0 1 0 1 0 0\n",
      "0 1 0 1 0 1\n",
      "0 1 0 1 1 0\n"
     ]
    },
    {
     "name": "stderr",
     "output_type": "stream",
     "text": [
      "C:\\Users\\91738\\anaconda3\\lib\\site-packages\\statsmodels\\tsa\\statespace\\sarimax.py:866: UserWarning: Too few observations to estimate starting parameters for seasonal ARMA. All parameters except for variances will be set to zeros.\n",
      "  warn('Too few observations to estimate starting parameters%s.'\n",
      "C:\\Users\\91738\\anaconda3\\lib\\site-packages\\statsmodels\\tsa\\statespace\\sarimax.py:866: UserWarning: Too few observations to estimate starting parameters for seasonal ARMA. All parameters except for variances will be set to zeros.\n",
      "  warn('Too few observations to estimate starting parameters%s.'\n",
      "C:\\Users\\91738\\anaconda3\\lib\\site-packages\\statsmodels\\tsa\\statespace\\sarimax.py:997: UserWarning: Non-stationary starting seasonal autoregressive Using zeros as starting parameters.\n",
      "  warn('Non-stationary starting seasonal autoregressive'\n",
      "C:\\Users\\91738\\anaconda3\\lib\\site-packages\\statsmodels\\tsa\\statespace\\sarimax.py:866: UserWarning: Too few observations to estimate starting parameters for seasonal ARMA. All parameters except for variances will be set to zeros.\n",
      "  warn('Too few observations to estimate starting parameters%s.'\n"
     ]
    },
    {
     "name": "stdout",
     "output_type": "stream",
     "text": [
      "0 1 0 1 1 1\n",
      "0 1 1 0 0 0\n",
      "0 1 1 0 0 1\n",
      "0 1 1 0 1 0\n",
      "0 1 1 0 1 1\n"
     ]
    },
    {
     "name": "stderr",
     "output_type": "stream",
     "text": [
      "C:\\Users\\91738\\anaconda3\\lib\\site-packages\\statsmodels\\tsa\\statespace\\sarimax.py:866: UserWarning: Too few observations to estimate starting parameters for seasonal ARMA. All parameters except for variances will be set to zeros.\n",
      "  warn('Too few observations to estimate starting parameters%s.'\n",
      "C:\\Users\\91738\\anaconda3\\lib\\site-packages\\statsmodels\\tsa\\statespace\\sarimax.py:866: UserWarning: Too few observations to estimate starting parameters for seasonal ARMA. All parameters except for variances will be set to zeros.\n",
      "  warn('Too few observations to estimate starting parameters%s.'\n",
      "C:\\Users\\91738\\anaconda3\\lib\\site-packages\\statsmodels\\tsa\\statespace\\sarimax.py:866: UserWarning: Too few observations to estimate starting parameters for seasonal ARMA. All parameters except for variances will be set to zeros.\n",
      "  warn('Too few observations to estimate starting parameters%s.'\n"
     ]
    },
    {
     "name": "stdout",
     "output_type": "stream",
     "text": [
      "0 1 1 1 0 0\n",
      "0 1 1 1 0 1\n",
      "0 1 1 1 1 0\n",
      "0 1 1 1 1 1\n"
     ]
    },
    {
     "name": "stderr",
     "output_type": "stream",
     "text": [
      "C:\\Users\\91738\\anaconda3\\lib\\site-packages\\statsmodels\\tsa\\statespace\\sarimax.py:997: UserWarning: Non-stationary starting seasonal autoregressive Using zeros as starting parameters.\n",
      "  warn('Non-stationary starting seasonal autoregressive'\n",
      "C:\\Users\\91738\\anaconda3\\lib\\site-packages\\statsmodels\\tsa\\statespace\\sarimax.py:866: UserWarning: Too few observations to estimate starting parameters for seasonal ARMA. All parameters except for variances will be set to zeros.\n",
      "  warn('Too few observations to estimate starting parameters%s.'\n"
     ]
    },
    {
     "name": "stdout",
     "output_type": "stream",
     "text": [
      "1 0 0 0 0 0\n",
      "1 0 0 0 0 1\n",
      "1 0 0 0 1 0\n",
      "1 0 0 0 1 1\n",
      "1 0 0 1 0 0\n",
      "1 0 0 1 0 1\n",
      "1 0 0 1 1 0\n"
     ]
    },
    {
     "name": "stderr",
     "output_type": "stream",
     "text": [
      "C:\\Users\\91738\\anaconda3\\lib\\site-packages\\statsmodels\\tsa\\statespace\\sarimax.py:866: UserWarning: Too few observations to estimate starting parameters for seasonal ARMA. All parameters except for variances will be set to zeros.\n",
      "  warn('Too few observations to estimate starting parameters%s.'\n",
      "C:\\Users\\91738\\anaconda3\\lib\\site-packages\\statsmodels\\tsa\\statespace\\sarimax.py:866: UserWarning: Too few observations to estimate starting parameters for seasonal ARMA. All parameters except for variances will be set to zeros.\n",
      "  warn('Too few observations to estimate starting parameters%s.'\n",
      "C:\\Users\\91738\\anaconda3\\lib\\site-packages\\statsmodels\\tsa\\statespace\\sarimax.py:866: UserWarning: Too few observations to estimate starting parameters for seasonal ARMA. All parameters except for variances will be set to zeros.\n",
      "  warn('Too few observations to estimate starting parameters%s.'\n",
      "C:\\Users\\91738\\anaconda3\\lib\\site-packages\\statsmodels\\tsa\\statespace\\sarimax.py:997: UserWarning: Non-stationary starting seasonal autoregressive Using zeros as starting parameters.\n",
      "  warn('Non-stationary starting seasonal autoregressive'\n",
      "C:\\Users\\91738\\anaconda3\\lib\\site-packages\\statsmodels\\tsa\\statespace\\sarimax.py:866: UserWarning: Too few observations to estimate starting parameters for seasonal ARMA. All parameters except for variances will be set to zeros.\n",
      "  warn('Too few observations to estimate starting parameters%s.'\n",
      "C:\\Users\\91738\\anaconda3\\lib\\site-packages\\statsmodels\\tsa\\statespace\\sarimax.py:866: UserWarning: Too few observations to estimate starting parameters for seasonal ARMA. All parameters except for variances will be set to zeros.\n",
      "  warn('Too few observations to estimate starting parameters%s.'\n"
     ]
    },
    {
     "name": "stdout",
     "output_type": "stream",
     "text": [
      "1 0 0 1 1 1\n",
      "1 0 1 0 0 0\n",
      "1 0 1 0 0 1\n",
      "1 0 1 0 1 0\n",
      "1 0 1 0 1 1\n"
     ]
    },
    {
     "name": "stderr",
     "output_type": "stream",
     "text": [
      "C:\\Users\\91738\\anaconda3\\lib\\site-packages\\statsmodels\\tsa\\statespace\\sarimax.py:966: UserWarning: Non-stationary starting autoregressive parameters found. Using zeros as starting parameters.\n",
      "  warn('Non-stationary starting autoregressive parameters'\n",
      "C:\\Users\\91738\\anaconda3\\lib\\site-packages\\statsmodels\\tsa\\statespace\\sarimax.py:978: UserWarning: Non-invertible starting MA parameters found. Using zeros as starting parameters.\n",
      "  warn('Non-invertible starting MA parameters found.'\n",
      "C:\\Users\\91738\\anaconda3\\lib\\site-packages\\statsmodels\\tsa\\statespace\\sarimax.py:966: UserWarning: Non-stationary starting autoregressive parameters found. Using zeros as starting parameters.\n",
      "  warn('Non-stationary starting autoregressive parameters'\n",
      "C:\\Users\\91738\\anaconda3\\lib\\site-packages\\statsmodels\\tsa\\statespace\\sarimax.py:978: UserWarning: Non-invertible starting MA parameters found. Using zeros as starting parameters.\n",
      "  warn('Non-invertible starting MA parameters found.'\n",
      "C:\\Users\\91738\\anaconda3\\lib\\site-packages\\statsmodels\\tsa\\statespace\\sarimax.py:866: UserWarning: Too few observations to estimate starting parameters for seasonal ARMA. All parameters except for variances will be set to zeros.\n",
      "  warn('Too few observations to estimate starting parameters%s.'\n",
      "C:\\Users\\91738\\anaconda3\\lib\\site-packages\\statsmodels\\tsa\\statespace\\sarimax.py:866: UserWarning: Too few observations to estimate starting parameters for seasonal ARMA. All parameters except for variances will be set to zeros.\n",
      "  warn('Too few observations to estimate starting parameters%s.'\n"
     ]
    },
    {
     "name": "stdout",
     "output_type": "stream",
     "text": [
      "1 0 1 1 0 0\n",
      "1 0 1 1 0 1\n",
      "1 0 1 1 1 0\n",
      "1 0 1 1 1 1\n"
     ]
    },
    {
     "name": "stderr",
     "output_type": "stream",
     "text": [
      "C:\\Users\\91738\\anaconda3\\lib\\site-packages\\statsmodels\\tsa\\statespace\\sarimax.py:966: UserWarning: Non-stationary starting autoregressive parameters found. Using zeros as starting parameters.\n",
      "  warn('Non-stationary starting autoregressive parameters'\n",
      "C:\\Users\\91738\\anaconda3\\lib\\site-packages\\statsmodels\\tsa\\statespace\\sarimax.py:978: UserWarning: Non-invertible starting MA parameters found. Using zeros as starting parameters.\n",
      "  warn('Non-invertible starting MA parameters found.'\n",
      "C:\\Users\\91738\\anaconda3\\lib\\site-packages\\statsmodels\\tsa\\statespace\\sarimax.py:997: UserWarning: Non-stationary starting seasonal autoregressive Using zeros as starting parameters.\n",
      "  warn('Non-stationary starting seasonal autoregressive'\n",
      "C:\\Users\\91738\\anaconda3\\lib\\site-packages\\statsmodels\\tsa\\statespace\\sarimax.py:966: UserWarning: Non-stationary starting autoregressive parameters found. Using zeros as starting parameters.\n",
      "  warn('Non-stationary starting autoregressive parameters'\n",
      "C:\\Users\\91738\\anaconda3\\lib\\site-packages\\statsmodels\\tsa\\statespace\\sarimax.py:978: UserWarning: Non-invertible starting MA parameters found. Using zeros as starting parameters.\n",
      "  warn('Non-invertible starting MA parameters found.'\n",
      "C:\\Users\\91738\\anaconda3\\lib\\site-packages\\statsmodels\\tsa\\statespace\\sarimax.py:866: UserWarning: Too few observations to estimate starting parameters for seasonal ARMA. All parameters except for variances will be set to zeros.\n",
      "  warn('Too few observations to estimate starting parameters%s.'\n",
      "C:\\Users\\91738\\anaconda3\\lib\\site-packages\\statsmodels\\base\\model.py:566: ConvergenceWarning: Maximum Likelihood optimization failed to converge. Check mle_retvals\n",
      "  warnings.warn(\"Maximum Likelihood optimization failed to \"\n",
      "C:\\Users\\91738\\anaconda3\\lib\\site-packages\\statsmodels\\tsa\\statespace\\sarimax.py:866: UserWarning: Too few observations to estimate starting parameters for seasonal ARMA. All parameters except for variances will be set to zeros.\n",
      "  warn('Too few observations to estimate starting parameters%s.'\n",
      "C:\\Users\\91738\\anaconda3\\lib\\site-packages\\statsmodels\\tsa\\statespace\\sarimax.py:866: UserWarning: Too few observations to estimate starting parameters for seasonal ARMA. All parameters except for variances will be set to zeros.\n",
      "  warn('Too few observations to estimate starting parameters%s.'\n",
      "C:\\Users\\91738\\anaconda3\\lib\\site-packages\\statsmodels\\tsa\\statespace\\sarimax.py:866: UserWarning: Too few observations to estimate starting parameters for seasonal ARMA. All parameters except for variances will be set to zeros.\n",
      "  warn('Too few observations to estimate starting parameters%s.'\n"
     ]
    },
    {
     "name": "stdout",
     "output_type": "stream",
     "text": [
      "1 1 0 0 0 0\n",
      "1 1 0 0 0 1\n",
      "1 1 0 0 1 0\n",
      "1 1 0 0 1 1\n",
      "1 1 0 1 0 0\n",
      "1 1 0 1 0 1\n",
      "1 1 0 1 1 0\n"
     ]
    },
    {
     "name": "stderr",
     "output_type": "stream",
     "text": [
      "C:\\Users\\91738\\anaconda3\\lib\\site-packages\\statsmodels\\tsa\\statespace\\sarimax.py:997: UserWarning: Non-stationary starting seasonal autoregressive Using zeros as starting parameters.\n",
      "  warn('Non-stationary starting seasonal autoregressive'\n",
      "C:\\Users\\91738\\anaconda3\\lib\\site-packages\\statsmodels\\tsa\\statespace\\sarimax.py:866: UserWarning: Too few observations to estimate starting parameters for seasonal ARMA. All parameters except for variances will be set to zeros.\n",
      "  warn('Too few observations to estimate starting parameters%s.'\n",
      "C:\\Users\\91738\\anaconda3\\lib\\site-packages\\statsmodels\\tsa\\statespace\\sarimax.py:866: UserWarning: Too few observations to estimate starting parameters for seasonal ARMA. All parameters except for variances will be set to zeros.\n",
      "  warn('Too few observations to estimate starting parameters%s.'\n"
     ]
    },
    {
     "name": "stdout",
     "output_type": "stream",
     "text": [
      "1 1 0 1 1 1\n",
      "1 1 1 0 0 0\n",
      "1 1 1 0 0 1\n",
      "1 1 1 0 1 0\n",
      "1 1 1 0 1 1\n",
      "1 1 1 1 0 0\n"
     ]
    },
    {
     "name": "stderr",
     "output_type": "stream",
     "text": [
      "C:\\Users\\91738\\anaconda3\\lib\\site-packages\\statsmodels\\tsa\\statespace\\sarimax.py:866: UserWarning: Too few observations to estimate starting parameters for seasonal ARMA. All parameters except for variances will be set to zeros.\n",
      "  warn('Too few observations to estimate starting parameters%s.'\n",
      "C:\\Users\\91738\\anaconda3\\lib\\site-packages\\statsmodels\\tsa\\statespace\\sarimax.py:866: UserWarning: Too few observations to estimate starting parameters for seasonal ARMA. All parameters except for variances will be set to zeros.\n",
      "  warn('Too few observations to estimate starting parameters%s.'\n",
      "C:\\Users\\91738\\anaconda3\\lib\\site-packages\\statsmodels\\tsa\\statespace\\sarimax.py:997: UserWarning: Non-stationary starting seasonal autoregressive Using zeros as starting parameters.\n",
      "  warn('Non-stationary starting seasonal autoregressive'\n"
     ]
    },
    {
     "name": "stdout",
     "output_type": "stream",
     "text": [
      "1 1 1 1 0 1\n",
      "1 1 1 1 1 0\n",
      "1 1 1 1 1 1\n"
     ]
    },
    {
     "name": "stderr",
     "output_type": "stream",
     "text": [
      "C:\\Users\\91738\\anaconda3\\lib\\site-packages\\statsmodels\\tsa\\statespace\\sarimax.py:866: UserWarning: Too few observations to estimate starting parameters for seasonal ARMA. All parameters except for variances will be set to zeros.\n",
      "  warn('Too few observations to estimate starting parameters%s.'\n"
     ]
    }
   ],
   "source": [
    "#grid search on model 1 for better p,d,q,P,D,Q values\n",
    "p = range(0,2)\n",
    "d = range(0,2)\n",
    "q = range(0,2)\n",
    "P = range(2)\n",
    "D = range(2)\n",
    "Q = range(2)\n",
    "\n",
    "pList = []\n",
    "dList = []\n",
    "qList = []\n",
    "PList = []\n",
    "DList = []\n",
    "QList = []\n",
    "mapeList = []\n",
    "seasonalPDQList = []\n",
    "\n",
    "for i in p:\n",
    "    for j in d:\n",
    "        for k in q:\n",
    "            for I in P:\n",
    "                for J in D:\n",
    "                    for K in Q:\n",
    "            \n",
    "                        print(i,j,k, I, J, K)\n",
    "                        tempArimaModel = ARIMA((i,j,k), (I,J,K,12)).fit(train_Haryana_dataset)\n",
    "                        \n",
    "                        Forecast = pd.Series(tempArimaModel.predict(13)).rename('Forecast')\n",
    "                        Forecast.index = test_Haryana_dataset.index\n",
    "                        Actual_Forecast_Df = pd.concat([Haryana_dataset, Forecast], axis = 1)\n",
    "                        Validation_Df = Actual_Forecast_Df[-13:].copy()\n",
    "                        tempMAPE = np.mean(abs(Validation_Df['VALUE'] - Validation_Df['Forecast'])/Validation_Df['VALUE'])*100 # MAPE\n",
    "                        \n",
    "                        pList.append(i)\n",
    "                        dList.append(j)\n",
    "                        qList.append(k)\n",
    "                        PList.append(I)\n",
    "                        DList.append(J)\n",
    "                        QList.append(K)\n",
    "                        mapeList.append(tempMAPE)\n",
    "            \n",
    "            \n",
    "arimaEvaluationDf = pd.DataFrame({\"p\": pList,\n",
    "                             \"d\": dList,\n",
    "                             \"q\": qList,\n",
    "                             \"P\": PList,\n",
    "                             \"D\": DList,\n",
    "                             \"Q\": QList,\n",
    "                             \"MAPE\": mapeList})"
   ]
  },
  {
   "cell_type": "code",
   "execution_count": 189,
   "id": "054325b3",
   "metadata": {},
   "outputs": [
    {
     "data": {
      "text/plain": [
       "34     30.793300\n",
       "2      31.314347\n",
       "7      32.218644\n",
       "6      35.294884\n",
       "14     35.462199\n",
       "         ...    \n",
       "20    184.888345\n",
       "17    186.507340\n",
       "58    186.546618\n",
       "26    253.718227\n",
       "27    304.053897\n",
       "Name: MAPE, Length: 64, dtype: float64"
      ]
     },
     "execution_count": 189,
     "metadata": {},
     "output_type": "execute_result"
    }
   ],
   "source": [
    "arimaEvaluationDf.MAPE.sort_values()"
   ]
  },
  {
   "cell_type": "code",
   "execution_count": 190,
   "id": "ae2d342b",
   "metadata": {},
   "outputs": [
    {
     "data": {
      "text/plain": [
       "p        1.0000\n",
       "d        0.0000\n",
       "q        0.0000\n",
       "P        0.0000\n",
       "D        1.0000\n",
       "Q        0.0000\n",
       "MAPE    30.7933\n",
       "Name: 34, dtype: float64"
      ]
     },
     "execution_count": 190,
     "metadata": {},
     "output_type": "execute_result"
    }
   ],
   "source": [
    "arimaEvaluationDf.iloc[34]"
   ]
  },
  {
   "cell_type": "code",
   "execution_count": 175,
   "id": "92150941",
   "metadata": {},
   "outputs": [
    {
     "name": "stdout",
     "output_type": "stream",
     "text": [
      "0 0 0 0 0 0\n",
      "0 0 0 0 0 1\n",
      "0 0 0 0 1 0\n",
      "0 0 0 0 1 1\n",
      "0 0 0 1 0 0\n"
     ]
    },
    {
     "name": "stderr",
     "output_type": "stream",
     "text": [
      "C:\\Users\\91738\\anaconda3\\lib\\site-packages\\statsmodels\\tsa\\statespace\\sarimax.py:866: UserWarning: Too few observations to estimate starting parameters for seasonal ARMA. All parameters except for variances will be set to zeros.\n",
      "  warn('Too few observations to estimate starting parameters%s.'\n",
      "C:\\Users\\91738\\anaconda3\\lib\\site-packages\\statsmodels\\tsa\\statespace\\sarimax.py:866: UserWarning: Too few observations to estimate starting parameters for seasonal ARMA. All parameters except for variances will be set to zeros.\n",
      "  warn('Too few observations to estimate starting parameters%s.'\n"
     ]
    },
    {
     "name": "stdout",
     "output_type": "stream",
     "text": [
      "0 0 0 1 0 1\n",
      "0 0 0 1 1 0\n",
      "0 0 0 1 1 1\n",
      "0 0 1 0 0 0\n"
     ]
    },
    {
     "name": "stderr",
     "output_type": "stream",
     "text": [
      "C:\\Users\\91738\\anaconda3\\lib\\site-packages\\statsmodels\\tsa\\statespace\\sarimax.py:866: UserWarning: Too few observations to estimate starting parameters for seasonal ARMA. All parameters except for variances will be set to zeros.\n",
      "  warn('Too few observations to estimate starting parameters%s.'\n",
      "C:\\Users\\91738\\anaconda3\\lib\\site-packages\\statsmodels\\base\\model.py:566: ConvergenceWarning: Maximum Likelihood optimization failed to converge. Check mle_retvals\n",
      "  warnings.warn(\"Maximum Likelihood optimization failed to \"\n",
      "C:\\Users\\91738\\anaconda3\\lib\\site-packages\\statsmodels\\tsa\\statespace\\sarimax.py:997: UserWarning: Non-stationary starting seasonal autoregressive Using zeros as starting parameters.\n",
      "  warn('Non-stationary starting seasonal autoregressive'\n",
      "C:\\Users\\91738\\anaconda3\\lib\\site-packages\\statsmodels\\tsa\\statespace\\sarimax.py:866: UserWarning: Too few observations to estimate starting parameters for seasonal ARMA. All parameters except for variances will be set to zeros.\n",
      "  warn('Too few observations to estimate starting parameters%s.'\n"
     ]
    },
    {
     "name": "stdout",
     "output_type": "stream",
     "text": [
      "0 0 1 0 0 1\n",
      "0 0 1 0 1 0\n",
      "0 0 1 0 1 1\n",
      "0 0 1 1 0 0\n"
     ]
    },
    {
     "name": "stderr",
     "output_type": "stream",
     "text": [
      "C:\\Users\\91738\\anaconda3\\lib\\site-packages\\statsmodels\\tsa\\statespace\\sarimax.py:866: UserWarning: Too few observations to estimate starting parameters for seasonal ARMA. All parameters except for variances will be set to zeros.\n",
      "  warn('Too few observations to estimate starting parameters%s.'\n",
      "C:\\Users\\91738\\anaconda3\\lib\\site-packages\\statsmodels\\tsa\\statespace\\sarimax.py:866: UserWarning: Too few observations to estimate starting parameters for seasonal ARMA. All parameters except for variances will be set to zeros.\n",
      "  warn('Too few observations to estimate starting parameters%s.'\n",
      "C:\\Users\\91738\\anaconda3\\lib\\site-packages\\statsmodels\\base\\model.py:566: ConvergenceWarning: Maximum Likelihood optimization failed to converge. Check mle_retvals\n",
      "  warnings.warn(\"Maximum Likelihood optimization failed to \"\n",
      "C:\\Users\\91738\\anaconda3\\lib\\site-packages\\statsmodels\\tsa\\statespace\\sarimax.py:866: UserWarning: Too few observations to estimate starting parameters for seasonal ARMA. All parameters except for variances will be set to zeros.\n",
      "  warn('Too few observations to estimate starting parameters%s.'\n",
      "C:\\Users\\91738\\anaconda3\\lib\\site-packages\\statsmodels\\base\\model.py:566: ConvergenceWarning: Maximum Likelihood optimization failed to converge. Check mle_retvals\n",
      "  warnings.warn(\"Maximum Likelihood optimization failed to \"\n"
     ]
    },
    {
     "name": "stdout",
     "output_type": "stream",
     "text": [
      "0 0 1 1 0 1\n",
      "0 0 1 1 1 0\n"
     ]
    },
    {
     "name": "stderr",
     "output_type": "stream",
     "text": [
      "C:\\Users\\91738\\anaconda3\\lib\\site-packages\\statsmodels\\tsa\\statespace\\sarimax.py:997: UserWarning: Non-stationary starting seasonal autoregressive Using zeros as starting parameters.\n",
      "  warn('Non-stationary starting seasonal autoregressive'\n",
      "C:\\Users\\91738\\anaconda3\\lib\\site-packages\\statsmodels\\tsa\\statespace\\sarimax.py:866: UserWarning: Too few observations to estimate starting parameters for seasonal ARMA. All parameters except for variances will be set to zeros.\n",
      "  warn('Too few observations to estimate starting parameters%s.'\n",
      "C:\\Users\\91738\\anaconda3\\lib\\site-packages\\statsmodels\\tsa\\statespace\\sarimax.py:866: UserWarning: Too few observations to estimate starting parameters for seasonal ARMA. All parameters except for variances will be set to zeros.\n",
      "  warn('Too few observations to estimate starting parameters%s.'\n"
     ]
    },
    {
     "name": "stdout",
     "output_type": "stream",
     "text": [
      "0 0 1 1 1 1\n",
      "0 1 0 0 0 0\n",
      "0 1 0 0 0 1\n",
      "0 1 0 0 1 0\n",
      "0 1 0 0 1 1\n"
     ]
    },
    {
     "name": "stderr",
     "output_type": "stream",
     "text": [
      "C:\\Users\\91738\\anaconda3\\lib\\site-packages\\statsmodels\\tsa\\statespace\\sarimax.py:866: UserWarning: Too few observations to estimate starting parameters for seasonal ARMA. All parameters except for variances will be set to zeros.\n",
      "  warn('Too few observations to estimate starting parameters%s.'\n",
      "C:\\Users\\91738\\anaconda3\\lib\\site-packages\\statsmodels\\tsa\\statespace\\sarimax.py:866: UserWarning: Too few observations to estimate starting parameters for seasonal ARMA. All parameters except for variances will be set to zeros.\n",
      "  warn('Too few observations to estimate starting parameters%s.'\n"
     ]
    },
    {
     "name": "stdout",
     "output_type": "stream",
     "text": [
      "0 1 0 1 0 0\n",
      "0 1 0 1 0 1\n"
     ]
    },
    {
     "name": "stderr",
     "output_type": "stream",
     "text": [
      "C:\\Users\\91738\\anaconda3\\lib\\site-packages\\statsmodels\\base\\model.py:566: ConvergenceWarning: Maximum Likelihood optimization failed to converge. Check mle_retvals\n",
      "  warnings.warn(\"Maximum Likelihood optimization failed to \"\n",
      "C:\\Users\\91738\\anaconda3\\lib\\site-packages\\statsmodels\\tsa\\statespace\\sarimax.py:997: UserWarning: Non-stationary starting seasonal autoregressive Using zeros as starting parameters.\n",
      "  warn('Non-stationary starting seasonal autoregressive'\n",
      "C:\\Users\\91738\\anaconda3\\lib\\site-packages\\statsmodels\\tsa\\statespace\\sarimax.py:866: UserWarning: Too few observations to estimate starting parameters for seasonal ARMA. All parameters except for variances will be set to zeros.\n",
      "  warn('Too few observations to estimate starting parameters%s.'\n",
      "C:\\Users\\91738\\anaconda3\\lib\\site-packages\\statsmodels\\tsa\\statespace\\sarimax.py:866: UserWarning: Too few observations to estimate starting parameters for seasonal ARMA. All parameters except for variances will be set to zeros.\n",
      "  warn('Too few observations to estimate starting parameters%s.'\n"
     ]
    },
    {
     "name": "stdout",
     "output_type": "stream",
     "text": [
      "0 1 0 1 1 0\n",
      "0 1 0 1 1 1\n",
      "0 1 1 0 0 0\n",
      "0 1 1 0 0 1\n",
      "0 1 1 0 1 0\n",
      "0 1 1 0 1 1\n",
      "0 1 1 1 0 0\n",
      "0 1 1 1 0 1\n"
     ]
    },
    {
     "name": "stderr",
     "output_type": "stream",
     "text": [
      "C:\\Users\\91738\\anaconda3\\lib\\site-packages\\statsmodels\\tsa\\statespace\\sarimax.py:866: UserWarning: Too few observations to estimate starting parameters for seasonal ARMA. All parameters except for variances will be set to zeros.\n",
      "  warn('Too few observations to estimate starting parameters%s.'\n",
      "C:\\Users\\91738\\anaconda3\\lib\\site-packages\\statsmodels\\tsa\\statespace\\sarimax.py:866: UserWarning: Too few observations to estimate starting parameters for seasonal ARMA. All parameters except for variances will be set to zeros.\n",
      "  warn('Too few observations to estimate starting parameters%s.'\n"
     ]
    },
    {
     "name": "stdout",
     "output_type": "stream",
     "text": [
      "0 1 1 1 1 0\n",
      "0 1 1 1 1 1\n",
      "1 0 0 0 0 0\n",
      "1 0 0 0 0 1\n"
     ]
    },
    {
     "name": "stderr",
     "output_type": "stream",
     "text": [
      "C:\\Users\\91738\\anaconda3\\lib\\site-packages\\statsmodels\\tsa\\statespace\\sarimax.py:997: UserWarning: Non-stationary starting seasonal autoregressive Using zeros as starting parameters.\n",
      "  warn('Non-stationary starting seasonal autoregressive'\n",
      "C:\\Users\\91738\\anaconda3\\lib\\site-packages\\statsmodels\\tsa\\statespace\\sarimax.py:866: UserWarning: Too few observations to estimate starting parameters for seasonal ARMA. All parameters except for variances will be set to zeros.\n",
      "  warn('Too few observations to estimate starting parameters%s.'\n",
      "C:\\Users\\91738\\anaconda3\\lib\\site-packages\\statsmodels\\tsa\\statespace\\sarimax.py:866: UserWarning: Too few observations to estimate starting parameters for seasonal ARMA. All parameters except for variances will be set to zeros.\n",
      "  warn('Too few observations to estimate starting parameters%s.'\n"
     ]
    },
    {
     "name": "stdout",
     "output_type": "stream",
     "text": [
      "1 0 0 0 1 0\n",
      "1 0 0 0 1 1\n",
      "1 0 0 1 0 0\n"
     ]
    },
    {
     "name": "stderr",
     "output_type": "stream",
     "text": [
      "C:\\Users\\91738\\anaconda3\\lib\\site-packages\\statsmodels\\tsa\\statespace\\sarimax.py:866: UserWarning: Too few observations to estimate starting parameters for seasonal ARMA. All parameters except for variances will be set to zeros.\n",
      "  warn('Too few observations to estimate starting parameters%s.'\n",
      "C:\\Users\\91738\\anaconda3\\lib\\site-packages\\statsmodels\\base\\model.py:566: ConvergenceWarning: Maximum Likelihood optimization failed to converge. Check mle_retvals\n",
      "  warnings.warn(\"Maximum Likelihood optimization failed to \"\n",
      "C:\\Users\\91738\\anaconda3\\lib\\site-packages\\statsmodels\\tsa\\statespace\\sarimax.py:866: UserWarning: Too few observations to estimate starting parameters for seasonal ARMA. All parameters except for variances will be set to zeros.\n",
      "  warn('Too few observations to estimate starting parameters%s.'\n",
      "C:\\Users\\91738\\anaconda3\\lib\\site-packages\\statsmodels\\tsa\\statespace\\sarimax.py:997: UserWarning: Non-stationary starting seasonal autoregressive Using zeros as starting parameters.\n",
      "  warn('Non-stationary starting seasonal autoregressive'\n",
      "C:\\Users\\91738\\anaconda3\\lib\\site-packages\\statsmodels\\tsa\\statespace\\sarimax.py:866: UserWarning: Too few observations to estimate starting parameters for seasonal ARMA. All parameters except for variances will be set to zeros.\n",
      "  warn('Too few observations to estimate starting parameters%s.'\n"
     ]
    },
    {
     "name": "stdout",
     "output_type": "stream",
     "text": [
      "1 0 0 1 0 1\n",
      "1 0 0 1 1 0\n",
      "1 0 0 1 1 1\n",
      "1 0 1 0 0 0\n",
      "1 0 1 0 0 1\n"
     ]
    },
    {
     "name": "stderr",
     "output_type": "stream",
     "text": [
      "C:\\Users\\91738\\anaconda3\\lib\\site-packages\\statsmodels\\tsa\\statespace\\sarimax.py:866: UserWarning: Too few observations to estimate starting parameters for seasonal ARMA. All parameters except for variances will be set to zeros.\n",
      "  warn('Too few observations to estimate starting parameters%s.'\n"
     ]
    },
    {
     "name": "stdout",
     "output_type": "stream",
     "text": [
      "1 0 1 0 1 0\n",
      "1 0 1 0 1 1\n"
     ]
    },
    {
     "name": "stderr",
     "output_type": "stream",
     "text": [
      "C:\\Users\\91738\\anaconda3\\lib\\site-packages\\statsmodels\\tsa\\statespace\\sarimax.py:966: UserWarning: Non-stationary starting autoregressive parameters found. Using zeros as starting parameters.\n",
      "  warn('Non-stationary starting autoregressive parameters'\n",
      "C:\\Users\\91738\\anaconda3\\lib\\site-packages\\statsmodels\\tsa\\statespace\\sarimax.py:978: UserWarning: Non-invertible starting MA parameters found. Using zeros as starting parameters.\n",
      "  warn('Non-invertible starting MA parameters found.'\n",
      "C:\\Users\\91738\\anaconda3\\lib\\site-packages\\statsmodels\\tsa\\statespace\\sarimax.py:966: UserWarning: Non-stationary starting autoregressive parameters found. Using zeros as starting parameters.\n",
      "  warn('Non-stationary starting autoregressive parameters'\n",
      "C:\\Users\\91738\\anaconda3\\lib\\site-packages\\statsmodels\\tsa\\statespace\\sarimax.py:978: UserWarning: Non-invertible starting MA parameters found. Using zeros as starting parameters.\n",
      "  warn('Non-invertible starting MA parameters found.'\n",
      "C:\\Users\\91738\\anaconda3\\lib\\site-packages\\statsmodels\\tsa\\statespace\\sarimax.py:866: UserWarning: Too few observations to estimate starting parameters for seasonal ARMA. All parameters except for variances will be set to zeros.\n",
      "  warn('Too few observations to estimate starting parameters%s.'\n"
     ]
    },
    {
     "name": "stdout",
     "output_type": "stream",
     "text": [
      "1 0 1 1 0 0\n"
     ]
    },
    {
     "name": "stderr",
     "output_type": "stream",
     "text": [
      "C:\\Users\\91738\\anaconda3\\lib\\site-packages\\statsmodels\\base\\model.py:566: ConvergenceWarning: Maximum Likelihood optimization failed to converge. Check mle_retvals\n",
      "  warnings.warn(\"Maximum Likelihood optimization failed to \"\n",
      "C:\\Users\\91738\\anaconda3\\lib\\site-packages\\statsmodels\\tsa\\statespace\\sarimax.py:866: UserWarning: Too few observations to estimate starting parameters for seasonal ARMA. All parameters except for variances will be set to zeros.\n",
      "  warn('Too few observations to estimate starting parameters%s.'\n",
      "C:\\Users\\91738\\anaconda3\\lib\\site-packages\\statsmodels\\base\\model.py:566: ConvergenceWarning: Maximum Likelihood optimization failed to converge. Check mle_retvals\n",
      "  warnings.warn(\"Maximum Likelihood optimization failed to \"\n"
     ]
    },
    {
     "name": "stdout",
     "output_type": "stream",
     "text": [
      "1 0 1 1 0 1\n",
      "1 0 1 1 1 0\n"
     ]
    },
    {
     "name": "stderr",
     "output_type": "stream",
     "text": [
      "C:\\Users\\91738\\anaconda3\\lib\\site-packages\\statsmodels\\tsa\\statespace\\sarimax.py:966: UserWarning: Non-stationary starting autoregressive parameters found. Using zeros as starting parameters.\n",
      "  warn('Non-stationary starting autoregressive parameters'\n",
      "C:\\Users\\91738\\anaconda3\\lib\\site-packages\\statsmodels\\tsa\\statespace\\sarimax.py:978: UserWarning: Non-invertible starting MA parameters found. Using zeros as starting parameters.\n",
      "  warn('Non-invertible starting MA parameters found.'\n",
      "C:\\Users\\91738\\anaconda3\\lib\\site-packages\\statsmodels\\tsa\\statespace\\sarimax.py:997: UserWarning: Non-stationary starting seasonal autoregressive Using zeros as starting parameters.\n",
      "  warn('Non-stationary starting seasonal autoregressive'\n",
      "C:\\Users\\91738\\anaconda3\\lib\\site-packages\\statsmodels\\tsa\\statespace\\sarimax.py:966: UserWarning: Non-stationary starting autoregressive parameters found. Using zeros as starting parameters.\n",
      "  warn('Non-stationary starting autoregressive parameters'\n",
      "C:\\Users\\91738\\anaconda3\\lib\\site-packages\\statsmodels\\tsa\\statespace\\sarimax.py:978: UserWarning: Non-invertible starting MA parameters found. Using zeros as starting parameters.\n",
      "  warn('Non-invertible starting MA parameters found.'\n",
      "C:\\Users\\91738\\anaconda3\\lib\\site-packages\\statsmodels\\tsa\\statespace\\sarimax.py:866: UserWarning: Too few observations to estimate starting parameters for seasonal ARMA. All parameters except for variances will be set to zeros.\n",
      "  warn('Too few observations to estimate starting parameters%s.'\n"
     ]
    },
    {
     "name": "stdout",
     "output_type": "stream",
     "text": [
      "1 0 1 1 1 1\n",
      "1 1 0 0 0 0\n",
      "1 1 0 0 0 1\n"
     ]
    },
    {
     "name": "stderr",
     "output_type": "stream",
     "text": [
      "C:\\Users\\91738\\anaconda3\\lib\\site-packages\\statsmodels\\tsa\\statespace\\sarimax.py:866: UserWarning: Too few observations to estimate starting parameters for seasonal ARMA. All parameters except for variances will be set to zeros.\n",
      "  warn('Too few observations to estimate starting parameters%s.'\n",
      "C:\\Users\\91738\\anaconda3\\lib\\site-packages\\statsmodels\\tsa\\statespace\\sarimax.py:866: UserWarning: Too few observations to estimate starting parameters for seasonal ARMA. All parameters except for variances will be set to zeros.\n",
      "  warn('Too few observations to estimate starting parameters%s.'\n"
     ]
    },
    {
     "name": "stdout",
     "output_type": "stream",
     "text": [
      "1 1 0 0 1 0\n",
      "1 1 0 0 1 1\n",
      "1 1 0 1 0 0\n",
      "1 1 0 1 0 1\n"
     ]
    },
    {
     "name": "stderr",
     "output_type": "stream",
     "text": [
      "C:\\Users\\91738\\anaconda3\\lib\\site-packages\\statsmodels\\tsa\\statespace\\sarimax.py:866: UserWarning: Too few observations to estimate starting parameters for seasonal ARMA. All parameters except for variances will be set to zeros.\n",
      "  warn('Too few observations to estimate starting parameters%s.'\n",
      "C:\\Users\\91738\\anaconda3\\lib\\site-packages\\statsmodels\\base\\model.py:566: ConvergenceWarning: Maximum Likelihood optimization failed to converge. Check mle_retvals\n",
      "  warnings.warn(\"Maximum Likelihood optimization failed to \"\n",
      "C:\\Users\\91738\\anaconda3\\lib\\site-packages\\statsmodels\\tsa\\statespace\\sarimax.py:997: UserWarning: Non-stationary starting seasonal autoregressive Using zeros as starting parameters.\n",
      "  warn('Non-stationary starting seasonal autoregressive'\n",
      "C:\\Users\\91738\\anaconda3\\lib\\site-packages\\statsmodels\\tsa\\statespace\\sarimax.py:866: UserWarning: Too few observations to estimate starting parameters for seasonal ARMA. All parameters except for variances will be set to zeros.\n",
      "  warn('Too few observations to estimate starting parameters%s.'\n"
     ]
    },
    {
     "name": "stdout",
     "output_type": "stream",
     "text": [
      "1 1 0 1 1 0\n",
      "1 1 0 1 1 1\n"
     ]
    },
    {
     "name": "stderr",
     "output_type": "stream",
     "text": [
      "C:\\Users\\91738\\anaconda3\\lib\\site-packages\\statsmodels\\base\\model.py:566: ConvergenceWarning: Maximum Likelihood optimization failed to converge. Check mle_retvals\n",
      "  warnings.warn(\"Maximum Likelihood optimization failed to \"\n",
      "C:\\Users\\91738\\anaconda3\\lib\\site-packages\\statsmodels\\tsa\\statespace\\sarimax.py:866: UserWarning: Too few observations to estimate starting parameters for seasonal ARMA. All parameters except for variances will be set to zeros.\n",
      "  warn('Too few observations to estimate starting parameters%s.'\n"
     ]
    },
    {
     "name": "stdout",
     "output_type": "stream",
     "text": [
      "1 1 1 0 0 0\n",
      "1 1 1 0 0 1\n",
      "1 1 1 0 1 0\n",
      "1 1 1 0 1 1\n",
      "1 1 1 1 0 0\n"
     ]
    },
    {
     "name": "stderr",
     "output_type": "stream",
     "text": [
      "C:\\Users\\91738\\anaconda3\\lib\\site-packages\\statsmodels\\tsa\\statespace\\sarimax.py:866: UserWarning: Too few observations to estimate starting parameters for seasonal ARMA. All parameters except for variances will be set to zeros.\n",
      "  warn('Too few observations to estimate starting parameters%s.'\n"
     ]
    },
    {
     "name": "stdout",
     "output_type": "stream",
     "text": [
      "1 1 1 1 0 1\n",
      "1 1 1 1 1 0\n"
     ]
    },
    {
     "name": "stderr",
     "output_type": "stream",
     "text": [
      "C:\\Users\\91738\\anaconda3\\lib\\site-packages\\statsmodels\\tsa\\statespace\\sarimax.py:866: UserWarning: Too few observations to estimate starting parameters for seasonal ARMA. All parameters except for variances will be set to zeros.\n",
      "  warn('Too few observations to estimate starting parameters%s.'\n",
      "C:\\Users\\91738\\anaconda3\\lib\\site-packages\\statsmodels\\tsa\\statespace\\sarimax.py:997: UserWarning: Non-stationary starting seasonal autoregressive Using zeros as starting parameters.\n",
      "  warn('Non-stationary starting seasonal autoregressive'\n"
     ]
    },
    {
     "name": "stdout",
     "output_type": "stream",
     "text": [
      "1 1 1 1 1 1\n"
     ]
    },
    {
     "name": "stderr",
     "output_type": "stream",
     "text": [
      "C:\\Users\\91738\\anaconda3\\lib\\site-packages\\statsmodels\\tsa\\statespace\\sarimax.py:866: UserWarning: Too few observations to estimate starting parameters for seasonal ARMA. All parameters except for variances will be set to zeros.\n",
      "  warn('Too few observations to estimate starting parameters%s.'\n"
     ]
    }
   ],
   "source": [
    "#grid search on model 2\n",
    "p = range(0,2)\n",
    "d = range(0,2)\n",
    "q = range(0,2)\n",
    "P = range(2)\n",
    "D = range(2)\n",
    "Q = range(2)\n",
    "\n",
    "pList = []\n",
    "dList = []\n",
    "qList = []\n",
    "PList = []\n",
    "DList = []\n",
    "QList = []\n",
    "mapeList = []\n",
    "seasonalPDQList = []\n",
    "\n",
    "for i in p:\n",
    "    for j in d:\n",
    "        for k in q:\n",
    "            for I in P:\n",
    "                for J in D:\n",
    "                    for K in Q:\n",
    "            \n",
    "                        print(i,j,k, I, J, K)\n",
    "                        train=np.log(train_Haryana_dataset)\n",
    "                        tempArimaModel = ARIMA((i,j,k), (I,J,K,12)).fit(train)\n",
    "                        \n",
    "                        Forecast = pd.Series(tempArimaModel.predict(13)).rename('Forecast')\n",
    "                        Forecast = np.exp(Forecast)\n",
    "                        Forecast.index = test_Haryana_dataset.index\n",
    "                        Actual_Forecast_Df = pd.concat([Haryana_dataset, Forecast], axis = 1)\n",
    "                        Validation_Df = Actual_Forecast_Df[-13:].copy()\n",
    "                        tempMAPE = np.mean(abs(Validation_Df['VALUE'] - Validation_Df['Forecast'])/Validation_Df['VALUE'])*100 # MAPE\n",
    "                        \n",
    "                        pList.append(i)\n",
    "                        dList.append(j)\n",
    "                        qList.append(k)\n",
    "                        PList.append(I)\n",
    "                        DList.append(J)\n",
    "                        QList.append(K)\n",
    "                        mapeList.append(tempMAPE)\n",
    "            \n",
    "            \n",
    "arimaEvaluationDf = pd.DataFrame({\"p\": pList,\n",
    "                             \"d\": dList,\n",
    "                             \"q\": qList,\n",
    "                             \"P\": PList,\n",
    "                             \"D\": DList,\n",
    "                             \"Q\": QList,\n",
    "                             \"MAPE\": mapeList})\n"
   ]
  },
  {
   "cell_type": "code",
   "execution_count": 185,
   "id": "9ed0afbf",
   "metadata": {},
   "outputs": [
    {
     "data": {
      "text/plain": [
       "34     30.793300\n",
       "2      31.314347\n",
       "7      32.218644\n",
       "6      35.294884\n",
       "14     35.462199\n",
       "         ...    \n",
       "20    184.888345\n",
       "17    186.507340\n",
       "58    186.546618\n",
       "26    253.718227\n",
       "27    304.053897\n",
       "Name: MAPE, Length: 64, dtype: float64"
      ]
     },
     "execution_count": 185,
     "metadata": {},
     "output_type": "execute_result"
    }
   ],
   "source": [
    "arimaEvaluationDf.MAPE.sort_values()"
   ]
  },
  {
   "cell_type": "code",
   "execution_count": 187,
   "id": "3d34ddf3",
   "metadata": {},
   "outputs": [
    {
     "data": {
      "text/html": [
       "<div>\n",
       "<style scoped>\n",
       "    .dataframe tbody tr th:only-of-type {\n",
       "        vertical-align: middle;\n",
       "    }\n",
       "\n",
       "    .dataframe tbody tr th {\n",
       "        vertical-align: top;\n",
       "    }\n",
       "\n",
       "    .dataframe thead th {\n",
       "        text-align: right;\n",
       "    }\n",
       "</style>\n",
       "<table border=\"1\" class=\"dataframe\">\n",
       "  <thead>\n",
       "    <tr style=\"text-align: right;\">\n",
       "      <th></th>\n",
       "      <th>p</th>\n",
       "      <th>d</th>\n",
       "      <th>q</th>\n",
       "      <th>P</th>\n",
       "      <th>D</th>\n",
       "      <th>Q</th>\n",
       "      <th>MAPE</th>\n",
       "    </tr>\n",
       "  </thead>\n",
       "  <tbody>\n",
       "    <tr>\n",
       "      <th>34</th>\n",
       "      <td>1</td>\n",
       "      <td>0</td>\n",
       "      <td>0</td>\n",
       "      <td>0</td>\n",
       "      <td>1</td>\n",
       "      <td>0</td>\n",
       "      <td>30.7933</td>\n",
       "    </tr>\n",
       "  </tbody>\n",
       "</table>\n",
       "</div>"
      ],
      "text/plain": [
       "    p  d  q  P  D  Q     MAPE\n",
       "34  1  0  0  0  1  0  30.7933"
      ]
     },
     "execution_count": 187,
     "metadata": {},
     "output_type": "execute_result"
    }
   ],
   "source": [
    "arimaEvaluationDf.iloc[arimaEvaluationDf.index==34]"
   ]
  },
  {
   "cell_type": "code",
   "execution_count": 215,
   "id": "11f9beac",
   "metadata": {
    "scrolled": true
   },
   "outputs": [
    {
     "name": "stdout",
     "output_type": "stream",
     "text": [
      "                VALUE\n",
      "date                 \n",
      "2014-04-01  10.391382\n",
      "2014-05-01  10.768122\n",
      "2014-06-01  11.780539\n",
      "2014-07-01  11.231505\n",
      "2014-08-01  11.581953\n",
      "2014-09-01  11.836694\n",
      "2014-10-01  12.031987\n",
      "2014-11-01  12.076595\n",
      "2014-12-01  11.757102\n",
      "2015-01-01  11.760401\n",
      "2015-02-01  11.584567\n",
      "2015-03-01  11.611348\n",
      "2015-04-01  11.788438\n",
      "2015-05-01  11.918180\n",
      "2015-06-01  11.984589\n",
      "2015-07-01  11.795798\n",
      "2015-08-01  11.769904\n",
      "2015-09-01  11.833371\n",
      "2015-10-01  12.654985\n",
      "2015-11-01  12.005303\n",
      "2015-12-01  11.932110\n",
      "2016-01-01  11.229791\n",
      "2016-02-01  11.200127\n",
      "2016-03-01  11.579675\n",
      "2016-04-01   9.688516\n",
      "2016-05-01  11.056598\n",
      "2016-06-01  11.882505\n",
      "2016-07-01  11.649189\n",
      "2016-08-01  11.519775\n",
      "2016-09-01  12.218085\n",
      "2016-10-01  11.697635\n",
      "2016-11-01  11.948829\n",
      "2016-12-01  11.963533\n",
      "0     11.246695\n",
      "1     11.211262\n",
      "2     11.588517\n",
      "3      9.696448\n",
      "4     11.064168\n",
      "5     11.889931\n",
      "6     11.656559\n",
      "7     11.527122\n",
      "8     12.225423\n",
      "9     11.704969\n",
      "10    11.956162\n",
      "11    11.970865\n",
      "12    11.254027\n",
      "dtype: float64\n",
      "0      76626.266906\n",
      "1      73958.716406\n",
      "2     107852.235967\n",
      "3      16259.749699\n",
      "4      63842.110596\n",
      "5     145791.292128\n",
      "6     115446.040405\n",
      "7     101429.767945\n",
      "8     203907.718189\n",
      "9     121172.334456\n",
      "10    155774.090278\n",
      "11    158081.403530\n",
      "12     77190.150041\n",
      "dtype: float64\n"
     ]
    }
   ],
   "source": [
    "#final model\n",
    "train=np.log(train_Haryana_dataset)\n",
    "print(train)\n",
    "arimaModel_final = ARIMA((1,0,0), (0,1,0,12)).fit(train)\n",
    "\n",
    "Forecast = pd.Series(arimaModel_final.predict(13))\n",
    "print(Forecast)\n",
    "Forecast = np.exp(Forecast)\n",
    "print(Forecast)\n",
    "\n",
    "Forecast.index = test_Haryana_dataset.index # Needed for the pd.concat to work correctly in the next line\n",
    "Forecast\n",
    "\n",
    "Forecast_Haryana = pd.concat([Haryana_dataset, Forecast], axis = 1)\n",
    "\n",
    "Forecast_Haryana.rename(columns={0:\"Forecast\"},inplace=True)"
   ]
  },
  {
   "cell_type": "code",
   "execution_count": 273,
   "id": "43a44feb",
   "metadata": {
    "scrolled": true
   },
   "outputs": [],
   "source": [
    "train=np.log(train_Himachal_dataset)\n",
    "\n",
    "arimaModel_final = ARIMA((1,0,0), (0,1,0,12)).fit(train)\n",
    "\n",
    "Forecast = pd.Series(arimaModel_final.predict(13))\n",
    "Forecast = np.exp(Forecast)\n",
    "\n",
    "\n",
    "Forecast.index = test_Himachal_dataset.index # Needed for the pd.concat to work correctly in the next line\n",
    "Forecast\n",
    "\n",
    "Forecast_Himachal_dataset = pd.concat([Haryana_dataset, Forecast], axis = 1)\n",
    "\n",
    "Forecast_Himachal_dataset.rename(columns={0:\"Forecast\"},inplace=True)"
   ]
  },
  {
   "cell_type": "code",
   "execution_count": 217,
   "id": "26d9b771",
   "metadata": {},
   "outputs": [
    {
     "data": {
      "text/plain": [
       "31.802071289680324"
      ]
     },
     "execution_count": 217,
     "metadata": {},
     "output_type": "execute_result"
    }
   ],
   "source": [
    "## Validation\n",
    "Validation_Df = Forecast_Haryana[-13:].copy()\n",
    "np.mean(abs(Validation_Df['VALUE'] - Validation_Df['Forecast'])/Validation_Df['VALUE'])*100 # MAPE"
   ]
  },
  {
   "cell_type": "code",
   "execution_count": null,
   "id": "06c04968",
   "metadata": {},
   "outputs": [],
   "source": [
    "train=np.log(train_Himachal_dataset)\n",
    "\n",
    "arimaModel_final = ARIMA((1,0,0), (0,1,0,12)).fit(train)\n",
    "\n",
    "Forecast = pd.Series(arimaModel_final.predict(13))\n",
    "Forecast = np.exp(Forecast)\n",
    "\n",
    "\n",
    "Forecast.index = test_Himachal_dataset.index # Needed for the pd.concat to work correctly in the next line\n",
    "Forecast\n",
    "\n",
    "Forecast_Himachal_dataset = pd.concat([Haryana_dataset, Forecast], axis = 1)\n",
    "\n",
    "Forecast_Himachal_dataset.rename(columns={0:\"Forecast\"},inplace=True)"
   ]
  },
  {
   "cell_type": "code",
   "execution_count": null,
   "id": "40786d41",
   "metadata": {},
   "outputs": [],
   "source": []
  },
  {
   "cell_type": "markdown",
   "id": "ee6e79b3",
   "metadata": {},
   "source": [
    "# FORECAST FOR ALL STATES"
   ]
  },
  {
   "cell_type": "code",
   "execution_count": null,
   "id": "f183d4dd",
   "metadata": {},
   "outputs": [],
   "source": [
    "#states:Himachal,Haryana,Punjab,Uttarakhand,Uttarpradesh"
   ]
  },
  {
   "cell_type": "code",
   "execution_count": 276,
   "id": "db370224",
   "metadata": {},
   "outputs": [],
   "source": [
    "train=np.log(train_Himachal_dataset)\n",
    "arimaModel_final = ARIMA((1,0,0), (0,1,0,12)).fit(train)\n",
    "Forecast = pd.Series(arimaModel_final.predict(13))\n",
    "Forecast = np.exp(Forecast)\n",
    "Forecast.index = test_Himachal_dataset.index\n",
    "Forecast\n",
    "Forecast_Himachal_dataset = pd.concat([Himachal_dataset, Forecast], axis = 1)\n",
    "Forecast_Himachal_dataset.rename(columns={0:\"Forecast\"},inplace=True)"
   ]
  },
  {
   "cell_type": "code",
   "execution_count": 277,
   "id": "6a4b1259",
   "metadata": {},
   "outputs": [
    {
     "data": {
      "text/plain": [
       "<AxesSubplot:xlabel='date'>"
      ]
     },
     "execution_count": 277,
     "metadata": {},
     "output_type": "execute_result"
    },
    {
     "data": {
      "image/png": "[encoded data removed]",
      "text/plain": [
       "<Figure size 432x288 with 1 Axes>"
      ]
     },
     "metadata": {
      "needs_background": "light"
     },
     "output_type": "display_data"
    }
   ],
   "source": [
    "Forecast_Himachal_dataset.plot()"
   ]
  },
  {
   "cell_type": "code",
   "execution_count": 278,
   "id": "9e909d0d",
   "metadata": {},
   "outputs": [],
   "source": [
    "train=np.log(train_Haryana_dataset)\n",
    "arimaModel_final = ARIMA((1,0,0), (0,1,0,12)).fit(train)\n",
    "Forecast = pd.Series(arimaModel_final.predict(13))\n",
    "Forecast = np.exp(Forecast)\n",
    "Forecast.index = test_Haryana_dataset.index\n",
    "Forecast\n",
    "Forecast_Haryana_dataset = pd.concat([Haryana_dataset, Forecast], axis = 1)\n",
    "Forecast_Haryana_dataset.rename(columns={0:\"Forecast\"},inplace=True)"
   ]
  },
  {
   "cell_type": "code",
   "execution_count": 279,
   "id": "67291949",
   "metadata": {},
   "outputs": [
    {
     "data": {
      "text/plain": [
       "<AxesSubplot:xlabel='date'>"
      ]
     },
     "execution_count": 279,
     "metadata": {},
     "output_type": "execute_result"
    },
    {
     "data": {
      "image/png": "[encoded data removed]",
      "text/plain": [
       "<Figure size 432x288 with 1 Axes>"
      ]
     },
     "metadata": {
      "needs_background": "light"
     },
     "output_type": "display_data"
    }
   ],
   "source": [
    "Forecast_Haryana_dataset.plot()"
   ]
  },
  {
   "cell_type": "code",
   "execution_count": 280,
   "id": "161fe967",
   "metadata": {},
   "outputs": [],
   "source": [
    "train=np.log(train_Punjab_dataset)\n",
    "arimaModel_final = ARIMA((1,0,0), (0,1,0,12)).fit(train)\n",
    "Forecast = pd.Series(arimaModel_final.predict(13))\n",
    "Forecast = np.exp(Forecast)\n",
    "Forecast.index = test_Punjab_dataset.index\n",
    "Forecast\n",
    "Forecast_Punjab_dataset = pd.concat([Punjab_dataset, Forecast], axis = 1)\n",
    "Forecast_Punjab_dataset.rename(columns={0:\"Forecast\"},inplace=True)"
   ]
  },
  {
   "cell_type": "code",
   "execution_count": 282,
   "id": "4c492f0b",
   "metadata": {},
   "outputs": [
    {
     "data": {
      "text/plain": [
       "<AxesSubplot:xlabel='date'>"
      ]
     },
     "execution_count": 282,
     "metadata": {},
     "output_type": "execute_result"
    },
    {
     "data": {
      "image/png": "[encoded data removed]",
      "text/plain": [
       "<Figure size 432x288 with 1 Axes>"
      ]
     },
     "metadata": {
      "needs_background": "light"
     },
     "output_type": "display_data"
    }
   ],
   "source": [
    "Forecast_Punjab_dataset.plot()"
   ]
  },
  {
   "cell_type": "code",
   "execution_count": 283,
   "id": "98ed1478",
   "metadata": {},
   "outputs": [],
   "source": [
    "train=np.log(train_Uttarakhand_dataset)\n",
    "arimaModel_final = ARIMA((1,0,0), (0,1,0,12)).fit(train)\n",
    "Forecast = pd.Series(arimaModel_final.predict(13))\n",
    "Forecast = np.exp(Forecast)\n",
    "Forecast.index = test_Uttarakhand_dataset.index\n",
    "Forecast\n",
    "Forecast_Uttarakhand_dataset = pd.concat([Uttarakhand_dataset, Forecast], axis = 1)\n",
    "Forecast_Uttarakhand_dataset.rename(columns={0:\"Forecast\"},inplace=True)"
   ]
  },
  {
   "cell_type": "code",
   "execution_count": 285,
   "id": "86f826e7",
   "metadata": {},
   "outputs": [
    {
     "data": {
      "text/plain": [
       "<AxesSubplot:xlabel='date'>"
      ]
     },
     "execution_count": 285,
     "metadata": {},
     "output_type": "execute_result"
    },
    {
     "data": {
      "image/png": "[encoded data removed]",
      "text/plain": [
       "<Figure size 432x288 with 1 Axes>"
      ]
     },
     "metadata": {
      "needs_background": "light"
     },
     "output_type": "display_data"
    }
   ],
   "source": [
    "Forecast_Uttarakhand_dataset.plot()"
   ]
  },
  {
   "cell_type": "code",
   "execution_count": 287,
   "id": "91c632b6",
   "metadata": {},
   "outputs": [],
   "source": [
    "train=np.log(train_Uttar_Pradesh_dataset)\n",
    "arimaModel_final = ARIMA((1,0,0), (0,1,0,12)).fit(train)\n",
    "Forecast = pd.Series(arimaModel_final.predict(13))\n",
    "Forecast = np.exp(Forecast)\n",
    "Forecast.index = test_Uttar_Pradesh_dataset.index\n",
    "Forecast\n",
    "Forecast_Uttar_Pradesh_dataset = pd.concat([Uttar_Pradesh_dataset, Forecast], axis = 1)\n",
    "Forecast_Uttar_Pradesh_dataset.rename(columns={0:\"Forecast\"},inplace=True)"
   ]
  },
  {
   "cell_type": "code",
   "execution_count": 289,
   "id": "08e38f76",
   "metadata": {},
   "outputs": [
    {
     "data": {
      "text/plain": [
       "<AxesSubplot:xlabel='date'>"
      ]
     },
     "execution_count": 289,
     "metadata": {},
     "output_type": "execute_result"
    },
    {
     "data": {
      "image/png": "[encoded data removed]",
      "text/plain": [
       "<Figure size 432x288 with 1 Axes>"
      ]
     },
     "metadata": {
      "needs_background": "light"
     },
     "output_type": "display_data"
    }
   ],
   "source": [
    "Forecast_Uttar_Pradesh_dataset.plot()"
   ]
  },
  {
   "cell_type": "code",
   "execution_count": null,
   "id": "6ebd1e5a",
   "metadata": {},
   "outputs": [],
   "source": []
  }
 ],
 "metadata": {
  "kernelspec": {
   "display_name": "Python 3",
   "language": "python",
   "name": "python3"
  },
  "language_info": {
   "codemirror_mode": {
    "name": "ipython",
    "version": 3
   },
   "file_extension": ".py",
   "mimetype": "text/x-python",
   "name": "python",
   "nbconvert_exporter": "python",
   "pygments_lexer": "ipython3",
   "version": "3.8.8"
  }
 },
 "nbformat": 4,
 "nbformat_minor": 5
}
