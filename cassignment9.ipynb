{
 "cells": [
  {
   "cell_type": "code",
   "execution_count": 46,
   "id": "e1c689a4",
   "metadata": {},
   "outputs": [
    {
     "name": "stdout",
     "output_type": "stream",
     "text": [
      "enter the number175\n",
      "175 is disarium number\n"
     ]
    }
   ],
   "source": [
    "#1.\tWrite a Python program to check if the given number is a Disarium Number?\n",
    "n=int(input('enter the number'))\n",
    "a=n\n",
    "m=0\n",
    "sum=0\n",
    "count=0\n",
    "while n>0:\n",
    "    n=int(n/10)\n",
    "    count=count+1\n",
    "n=a\n",
    "  \n",
    "while count>0:\n",
    "    m=n%10\n",
    "    n=int(n/10)\n",
    "    sum=sum+m**count\n",
    "    count=count-1\n",
    "if a==sum:\n",
    "    print(a,'is disarium number')\n",
    "else:\n",
    "    print('number is not disarium')\n",
    "    "
   ]
  },
  {
   "cell_type": "code",
   "execution_count": 50,
   "id": "5e7264ff",
   "metadata": {},
   "outputs": [
    {
     "name": "stdout",
     "output_type": "stream",
     "text": [
      "enter the lower range number56\n",
      "enter the upper range number175\n",
      "89 is disarium number\n",
      "135 is disarium number\n",
      "175 is disarium number\n"
     ]
    }
   ],
   "source": [
    "#2.\tWrite a Python program to print all disarium numbers between 1 to 100?\n",
    "a=int(input('enter the lower range number'))\n",
    "b=int(input('enter the upper range number'))\n",
    "\n",
    "for i in range(a,b+1):\n",
    "    count=0\n",
    "    sum=0\n",
    "    m=0\n",
    "    n=i\n",
    "    while n>0:\n",
    "        n=int(n/10)\n",
    "        count=count+1\n",
    "    n=i\n",
    "    while count>0:\n",
    "        m=n%10\n",
    "        n=int(n/10)\n",
    "        sum=sum+m**count\n",
    "        count=count-1\n",
    "    if i==sum:\n",
    "        print(i,'is disarium number')\n",
    "    else:\n",
    "        pass\n"
   ]
  },
  {
   "cell_type": "code",
   "execution_count": 27,
   "id": "d44a7ebc",
   "metadata": {
    "scrolled": true
   },
   "outputs": [
    {
     "name": "stdout",
     "output_type": "stream",
     "text": [
      "enter the number13\n",
      "13 is a happy number\n"
     ]
    }
   ],
   "source": [
    "#3.\tWrite a Python program to check if the given number is Happy Number?\n",
    "n=input('enter the number')\n",
    "a=n\n",
    "while int(n)>9:\n",
    "    sum=0\n",
    "    for i in n:\n",
    "        sum=sum+(int(i)*int(i))\n",
    "    n=str(sum)\n",
    "\n",
    "if sum==1:\n",
    "    print(a,'is a happy number')\n",
    "else:\n",
    "    print(a,'is a not a happy number')"
   ]
  },
  {
   "cell_type": "code",
   "execution_count": 33,
   "id": "77581335",
   "metadata": {},
   "outputs": [
    {
     "name": "stdout",
     "output_type": "stream",
     "text": [
      "10 is a happy number\n",
      "13 is a happy number\n",
      "19 is a happy number\n",
      "23 is a happy number\n",
      "28 is a happy number\n",
      "31 is a happy number\n",
      "32 is a happy number\n",
      "44 is a happy number\n",
      "49 is a happy number\n",
      "68 is a happy number\n",
      "70 is a happy number\n",
      "79 is a happy number\n",
      "82 is a happy number\n",
      "86 is a happy number\n",
      "91 is a happy number\n",
      "94 is a happy number\n",
      "97 is a happy number\n"
     ]
    }
   ],
   "source": [
    "#4.\tWrite a Python program to print all happy numbers between 1 and 100?\n",
    "for m in range(1,100):\n",
    "    n=str(m)\n",
    "    a=n\n",
    "    while int(n)>9:\n",
    "        sum=0\n",
    "        for i in n:\n",
    "            sum=sum+(int(i)*int(i))\n",
    "        n=str(sum)\n",
    "\n",
    "    if sum==1:\n",
    "        print(a,'is a happy number')\n",
    "    else:\n",
    "        pass\n",
    "\n",
    "\n"
   ]
  },
  {
   "cell_type": "code",
   "execution_count": 5,
   "id": "cf2d6e87",
   "metadata": {},
   "outputs": [
    {
     "name": "stdout",
     "output_type": "stream",
     "text": [
      "enter the number56789\n",
      "56789 is a not a happy number\n"
     ]
    }
   ],
   "source": [
    "#5.\tWrite a Python program to determine whether the given number is a Harshad Number?\n",
    "n=input('enter the number')\n",
    "a=n\n",
    "sum=0\n",
    "for i in n:\n",
    "    sum=sum+(int(i))\n",
    "\n",
    "if int(a)%sum==0:\n",
    "    print(a,'is a harshad number')\n",
    "else:\n",
    "    print(a,'is a not a harshad number')\n",
    "\n",
    "\n",
    "\n"
   ]
  },
  {
   "cell_type": "code",
   "execution_count": 25,
   "id": "bb67f619",
   "metadata": {},
   "outputs": [
    {
     "name": "stdout",
     "output_type": "stream",
     "text": [
      "enter the number567\n",
      "567 is not pronic\n"
     ]
    }
   ],
   "source": [
    "#6.\tWrite a Python program to print all pronic numbers between 1 and 100?\n",
    "n=input('enter the number')\n",
    "a=n\n",
    "for i in range(1,int(n)+1):\n",
    "    if i*(i+1)==int(a):\n",
    "        print(a,'is pronic')\n",
    "    else:\n",
    "        pass\n",
    "\n",
    "print(a,'is not pronic')  \n",
    "        \n",
    "\n"
   ]
  }
 ],
 "metadata": {
  "kernelspec": {
   "display_name": "Python 3",
   "language": "python",
   "name": "python3"
  },
  "language_info": {
   "codemirror_mode": {
    "name": "ipython",
    "version": 3
   },
   "file_extension": ".py",
   "mimetype": "text/x-python",
   "name": "python",
   "nbconvert_exporter": "python",
   "pygments_lexer": "ipython3",
   "version": "3.8.8"
  }
 },
 "nbformat": 4,
 "nbformat_minor": 5
}
