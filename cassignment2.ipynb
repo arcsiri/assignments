{
 "cells": [
  {
   "cell_type": "code",
   "execution_count": 9,
   "id": "02e96752",
   "metadata": {},
   "outputs": [
    {
     "name": "stdout",
     "output_type": "stream",
     "text": [
      "Object `miles` not found.\n",
      "enter the km distance5\n",
      "the 5 km in miles is 3.1064999999999996\n"
     ]
    }
   ],
   "source": [
    "#1.\tWrite a Python program to convert kilometers to miles?\n",
    "km=int(input('enter the km distance'))\n",
    "print('the' ,km, 'km in miles is',0.6213*km)"
   ]
  },
  {
   "cell_type": "code",
   "execution_count": 18,
   "id": "f6f58434",
   "metadata": {},
   "outputs": [
    {
     "name": "stdout",
     "output_type": "stream",
     "text": [
      "enter the celsius temperature5\n",
      "the 5.0 celsius in Fahrenheit is 41.0\n"
     ]
    }
   ],
   "source": [
    "#2.\tWrite a Python program to convert Celsius to Fahrenheit?\n",
    "celsius=float(input('enter the celsius temperature'))\n",
    "print('the' ,celsius, 'celsius in Fahrenheit is',((celsius) * (9/5)) + 32)\n"
   ]
  },
  {
   "cell_type": "code",
   "execution_count": 5,
   "id": "833d39df",
   "metadata": {},
   "outputs": [
    {
     "name": "stdout",
     "output_type": "stream",
     "text": [
      "enter year2021\n",
      "enter month12\n",
      "   December 2021\n",
      "Mo Tu We Th Fr Sa Su\n",
      "       1  2  3  4  5\n",
      " 6  7  8  9 10 11 12\n",
      "13 14 15 16 17 18 19\n",
      "20 21 22 23 24 25 26\n",
      "27 28 29 30 31\n",
      "\n"
     ]
    }
   ],
   "source": [
    "#Write a Python program to display calendar?\n",
    "import calendar\n",
    "year=int(input('enter year'))\n",
    "month=int(input('enter month'))\n",
    "print(calendar.month(year,month))\n"
   ]
  },
  {
   "cell_type": "code",
   "execution_count": 2,
   "id": "145ec033",
   "metadata": {},
   "outputs": [
    {
     "name": "stdout",
     "output_type": "stream",
     "text": [
      "enter x value6\n",
      "the value of y is 96\n"
     ]
    }
   ],
   "source": [
    "#Write a Python program to solve quadratic equation?\n",
    "x=int(input('enter x value'))\n",
    "y=x*x+9*x+6\n",
    "print(\"the value of y is\",y)"
   ]
  },
  {
   "cell_type": "code",
   "execution_count": 3,
   "id": "beaa00b1",
   "metadata": {},
   "outputs": [
    {
     "name": "stdout",
     "output_type": "stream",
     "text": [
      "enter a value5\n",
      "enter b value6\n",
      "the value of a is 6\n",
      "the value of b is 5\n"
     ]
    }
   ],
   "source": [
    "#Write a Python program to swap two variables without temp variable?\n",
    "a=int(input('enter a value'))\n",
    "b=int(input('enter b value'))\n",
    "a=a+b\n",
    "b=a-b\n",
    "a=a-b\n",
    "print(\"the value of a is\",a)\n",
    "print(\"the value of b is\",b)"
   ]
  },
  {
   "cell_type": "code",
   "execution_count": null,
   "id": "3fb71014",
   "metadata": {},
   "outputs": [],
   "source": []
  }
 ],
 "metadata": {
  "kernelspec": {
   "display_name": "Python 3",
   "language": "python",
   "name": "python3"
  },
  "language_info": {
   "codemirror_mode": {
    "name": "ipython",
    "version": 3
   },
   "file_extension": ".py",
   "mimetype": "text/x-python",
   "name": "python",
   "nbconvert_exporter": "python",
   "pygments_lexer": "ipython3",
   "version": "3.8.8"
  }
 },
 "nbformat": 4,
 "nbformat_minor": 5
}
